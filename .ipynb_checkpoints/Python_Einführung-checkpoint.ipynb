{
 "cells": [
  {
   "cell_type": "markdown",
   "metadata": {
    "id": "qH0qW6t0OwtG"
   },
   "source": [
    "* Die Plattform, auf der wir uns befinden, heißt **JupyterLab**. Hier gibt es ein paar Dinge zu beachten.  \n",
    "  1. Den Code führt ihr hier aus, indem ihr auf den kleinen Pfeil bzw. das Dreieck oben im Fenster drückt.\n",
    "  \n",
    "  2. Es wird oft leere Codezellen geben, in denen ihr dann selbst etwas hineinschreiben sollt.\n",
    "\n",
    "  3. Eine **horizontale Linie** ist immer ein **Breakpoint**, bei dem wir **aufeinander warten**. Wenn ihr schon schnell da seid, setzt bitte in Zoom den grünen Haken. **Wenn ihr Lust habt**, könnt ihr danach auch andere Dinge ausprobieren oder versuchen, die **Zusatzaufgabe** zu erledigen, bis alle am Breakpoint angekommen sind. Erst danach klappen wir den neuen Abschnitt auf und machen gemeinsam weiter.\n",
    "\n",
    "* Bei der Programmiersprache **python** gibt es ein paar wichtige Regeln:\n",
    "  1. Der Code wird immer **von oben nach unten** und **Zeile für Zeile** gelesen und ausgeführt.\n",
    "\n",
    "  2. Manchmal ist Einrücken (Leerzeichen am Anfang einer Zeile) ganz wichtig. Hier interpretiert das Programm eine Zeile anders, abhängig von der **Anzahl der Leerzeichen**.  \n",
    "\n",
    "\n",
    "\n",
    "Außerdem gibt es noch:  \n",
    "\n",
    "* **Aufgaben**  \n",
    "\n",
    "* >Tipps\n",
    "\n",
    "* Breakpoints  \n",
    "\n",
    "---"
   ]
  },
  {
   "cell_type": "markdown",
   "metadata": {
    "id": "k_Pj39JLOvvU"
   },
   "source": [
    "# 1\\. Abschnitt"
   ]
  },
  {
   "cell_type": "markdown",
   "metadata": {
    "id": "kBB3a9oAO4oD"
   },
   "source": [
    "## Zahlen und \"Strings\""
   ]
  },
  {
   "cell_type": "markdown",
   "metadata": {
    "id": "qsYWp0CHKCfE"
   },
   "source": [
    "Wir können unseren Code einfach als Taschenrechner verwenden. Versuche, mithilfe der Zeichen + (plus), - (minus), * (mal) oder / (geteilt) zu rechnen.\n",
    "\n",
    "Das sieht dann z.B. so aus:"
   ]
  },
  {
   "cell_type": "code",
   "execution_count": null,
   "metadata": {
    "colab": {
     "base_uri": "https://localhost:8080/"
    },
    "id": "GYVBNDTMLLwe",
    "outputId": "a9e9731b-99f1-4638-efe6-9a9c95299eae"
   },
   "outputs": [],
   "source": [
    "2+4"
   ]
  },
  {
   "cell_type": "markdown",
   "metadata": {
    "id": "91ovtTHLLUey"
   },
   "source": [
    "Jetzt darfst du das mal selbst probieren. Du kannst auch mit Potenzen rechnen (2 hoch 4 wird 2**4 geschrieben)."
   ]
  },
  {
   "cell_type": "code",
   "execution_count": null,
   "metadata": {
    "id": "GyQ7_kgtLnHE"
   },
   "outputs": [],
   "source": []
  },
  {
   "cell_type": "markdown",
   "metadata": {
    "id": "qnJ7M4fkKCbo"
   },
   "source": [
    "Strings sind Zeichenketten z.B. Buchstaben, Wörter oder ganze Sätze. Sie werden in Python durch ' ' oder \" \" markiert.\n",
    "Ein string sieht dann z.B. so aus: `\"Wort\".`\n",
    "\n",
    "**Aufgabe 1.1:**\\\n",
    "Was passiert, wenn man zwei Strings addiert? Oder wenn man einen String mit einer Zahl multipliziert?"
   ]
  },
  {
   "cell_type": "code",
   "execution_count": null,
   "metadata": {
    "id": "83-1IVoWMLcH"
   },
   "outputs": [],
   "source": []
  },
  {
   "cell_type": "markdown",
   "metadata": {
    "id": "xSOXlMt-O4qr"
   },
   "source": [
    "**Aufgabe 1.2:**\\\n",
    "Versuche nun, eine Zahl und einen String zu addieren."
   ]
  },
  {
   "cell_type": "code",
   "execution_count": null,
   "metadata": {
    "id": "cHsmzDXkO-Du",
    "outputId": "0e727334-4bc9-4066-84d3-9ed8275648c5"
   },
   "outputs": [],
   "source": []
  },
  {
   "cell_type": "markdown",
   "metadata": {
    "id": "aj2deP9aPC-C"
   },
   "source": [
    "Sehr gut, jetzt hast du deine erste Fehlermeldung bekommen!\\\n",
    "Immer wenn du etwas programmierst, das die Sprache nicht kennt, erscheint eine Fehlermeldung. \\\n",
    "Diese sagt dir, was für ein Fehler gemacht wurde. In diesem Fall ist es ein \"TypeError\". \\\n",
    "Wenn du solch eine Fehlermeldung bekommst und nicht weißt woran es liegt, dann sag uns am besten immer gleich Bescheid."
   ]
  },
  {
   "cell_type": "code",
   "execution_count": null,
   "metadata": {
    "id": "lrARAgknueEy"
   },
   "outputs": [],
   "source": [
    "# Hinter einem #-Zeichen kann man auch in Code-Zeilen Kommentare schreiben, die vom Programm beim Ausführen ignoriert werden."
   ]
  },
  {
   "cell_type": "markdown",
   "metadata": {
    "id": "klmOqpRl1HoS"
   },
   "source": [
    "Kommentare sind unglaublich wichtig beim Programmieren. \\\n",
    "Gerade wenn man lange Programme schreibt, braucht man sie, damit andere (und später auch man selbst) verstehen, was an welcher Stelle des Programms gemacht wird.\n",
    "\n"
   ]
  },
  {
   "cell_type": "markdown",
   "metadata": {
    "id": "e639XNepTxS2"
   },
   "source": [
    "<div class=\"alert alert-block alert-success\"><b>Ab hier seid ihr dran</b> ( bis zur nächsten roten Box) </div>"
   ]
  },
  {
   "cell_type": "markdown",
   "metadata": {
    "id": "8K64iZi9JvIJ"
   },
   "source": [
    "Insgesamt wirst du hier vor allem drei Datentypen brauchen. Zwei hast du schon kennengelernt: Ganze Zahlen und Strings. \\\n",
    "Außerdem wirst du später Kommazahlen benutzen müssen. Dabei ist ganz wichtig, dass das, was bei uns normalerweise als Komma geschrieben wird, **hier als Punkt gesetzt wird**.\n",
    "\n",
    "**Aufgabe 1.3**: \\\n",
    "Führe die nächsten beiden Zellen aus und gucke dir den Unterschied an. Die zweite Zelle zeigt die richtige Schreibweise für Kommazahlen."
   ]
  },
  {
   "cell_type": "code",
   "execution_count": null,
   "metadata": {
    "id": "XfkKLNuOKItD"
   },
   "outputs": [],
   "source": [
    "3,2 #hier kommt etwas komisches raus"
   ]
  },
  {
   "cell_type": "code",
   "execution_count": null,
   "metadata": {
    "id": "xlHDvVEZKN4h"
   },
   "outputs": [],
   "source": [
    "3.2 # das ist es was wir wollen!"
   ]
  },
  {
   "cell_type": "markdown",
   "metadata": {
    "id": "k2WN48boNoat"
   },
   "source": [
    "## Variablen"
   ]
  },
  {
   "cell_type": "markdown",
   "metadata": {
    "id": "QX2oNEyrNryR"
   },
   "source": [
    "Jetzt hast du schon drei wichtige Typen in Python kennengelernt: Zahlen (ganze Zahlen und Kommazahlen) und Strings. \\\n",
    "Als nächstes brauchen wir etwas, wo wir solche Dinge speichern können. Solche Objekte werden Variablen genannt. \\\n",
    "Führe einmal die nächste Zelle aus.\n",
    "\n",
    "\n"
   ]
  },
  {
   "cell_type": "code",
   "execution_count": null,
   "metadata": {
    "id": "W2ya-tC76TXH"
   },
   "outputs": [],
   "source": [
    "x = 3"
   ]
  },
  {
   "cell_type": "markdown",
   "metadata": {
    "id": "YwuJH5F46nhp"
   },
   "source": [
    "Du siehst, dass es keinen Output gibt. Trotzdem ist etwas passiert: Die Variable x hat den Wert 3 erhalten. So kannst du dir angucken, was in der Variable x enthalten ist:"
   ]
  },
  {
   "cell_type": "code",
   "execution_count": null,
   "metadata": {
    "id": "0TQ9MCGS7Iya"
   },
   "outputs": [],
   "source": [
    "x "
   ]
  },
  {
   "cell_type": "markdown",
   "metadata": {
    "id": "gcKZHBpw72zs"
   },
   "source": [
    "Man kann auch mehrere Variablen definieren und dann mit ihnen rechnen. \n",
    "In der nächsten Zelle haben wir das mal versucht, aber irgendwas ist durcheinander gekommen.  \n",
    "\n",
    "**Aufgabe 1.4:** \\\n",
    "Weißt du, was nicht stimmt? Führe ruhig erst die Zelle aus und schau dir die Fehlermeldung an, dann versuche sie so zu ändern, dass es klappt."
   ]
  },
  {
   "cell_type": "code",
   "execution_count": null,
   "metadata": {
    "id": "3G7BlXTD8ExP"
   },
   "outputs": [],
   "source": [
    "var1 = 2\n",
    "var2 = 4\n",
    "var1 + var2"
   ]
  },
  {
   "cell_type": "markdown",
   "metadata": {
    "id": "TITph4U097pU"
   },
   "source": [
    "**Aufgabe 1.5:** \\\n",
    "Versuche nun selbst ein paar kompliziertere Rechenoperationen, in denen du Variablen verwendest.\\\n",
    ">Tipp: In Variablen können auch Strings gespeichert werden."
   ]
  },
  {
   "cell_type": "code",
   "execution_count": null,
   "metadata": {
    "id": "Atciq2fqL59S"
   },
   "outputs": [],
   "source": [
    "hallo_welt = \"Hallo Welt!\""
   ]
  },
  {
   "cell_type": "markdown",
   "metadata": {
    "id": "pWxyvFDT-bCH"
   },
   "source": [
    "## Funktionen nutzen"
   ]
  },
  {
   "cell_type": "markdown",
   "metadata": {
    "id": "0bJfP3uzL88B"
   },
   "source": [
    "Um mit unserem ersten kleinen Physikprojekt zu starten, brauchen wir noch ein weiteres Konzept: Funktionen. \\\n",
    "Eine Beispiel ist die _print_-Funktion:"
   ]
  },
  {
   "cell_type": "code",
   "execution_count": null,
   "metadata": {
    "id": "-ZFAHt9COc7k"
   },
   "outputs": [],
   "source": [
    "x = 3\n",
    "print(x)"
   ]
  },
  {
   "cell_type": "markdown",
   "metadata": {
    "id": "vrDjxv7ZOor0"
   },
   "source": [
    "Die _print_-Funktion nimmt das Input-Element x und \"druckt\" es auf den Bildschirm. \\\n",
    "Funktionen haben immer die Struktur `funktionsname(input1,input2,input3...)`. \\\n",
    "Jede Funktion hat dabei eine bestimmte Menge von Input-Elementen und macht dann etwas ganz bestimmtes damit. \n",
    "Ein weiteres Beispiel für eine Funktion ist die _len_-Funktion, wobei len kurz für length (engl. Länge) steht. Diese gibt dir zurück, wie viele Buchstaben ein String enthält."
   ]
  },
  {
   "cell_type": "markdown",
   "metadata": {
    "id": "vIfGynAIRPlN"
   },
   "source": [
    "**Aufgabe 1.6:** Versuche mal `len(input1)` auf einen String anzuwenden."
   ]
  },
  {
   "cell_type": "code",
   "execution_count": null,
   "metadata": {
    "id": "vB1sUzx6-cUZ"
   },
   "outputs": [],
   "source": []
  },
  {
   "cell_type": "markdown",
   "metadata": {
    "id": "Zgqc-yGa4cdJ"
   },
   "source": [
    "## Module"
   ]
  },
  {
   "cell_type": "markdown",
   "metadata": {
    "id": "Hen28ehy7GcI"
   },
   "source": [
    "Weil es sonst sehr lange dauern würde, solch ein Notebook zu laden, kennt python beim starten noch nicht alle Funktionen, die dafür schon geschrieben wurden. Man muss einzelne Funktionspakete, sogenannte **Module**, importieren.\n",
    "\n",
    "Ein sehr wichtiges Modul ist zum Beispiel _numpy_, das ganz viele mathematische Funktionen wie den Kosinus und den Sinus enthält und sehr effektiv bei Rechnungen ist. \n",
    "\n",
    "Mit der nächsten Zelle importierst du das Modul numpy und nennst es \"np\":"
   ]
  },
  {
   "cell_type": "code",
   "execution_count": null,
   "metadata": {
    "id": "rQ99MjpWTpCe"
   },
   "outputs": [],
   "source": [
    "import numpy as np    # hiermit importierst du numpy  als np\n",
    "print(\"Numpy imported\") "
   ]
  },
  {
   "cell_type": "markdown",
   "metadata": {
    "id": "GTZ4arjNTr6P"
   },
   "source": [
    "Wenn du jetzt eine Funktion aus dem np-Modul nutzen möchtest, musst du Python stehts sagen, dass sie aus diesem Modul kommt. \\\n",
    "Den Kosinus (engl. cosine, daher abgekürzt mit _cos_) würde man zum Beispiel so aufrufen:"
   ]
  },
  {
   "cell_type": "code",
   "execution_count": null,
   "metadata": {
    "id": "Y7WXF2__T6K3"
   },
   "outputs": [],
   "source": [
    "np.cos(np.pi)  # np.pi ruft einfach die Zahl pi auf, die ebenfalls im numpy-Modul gespeichert ist. Pi entspricht 180° eines Kreises."
   ]
  },
  {
   "cell_type": "markdown",
   "metadata": {
    "id": "cFHpzKhvUWuq"
   },
   "source": [
    "also erst den **Modulnamen**, dann einen **Punkt** und dann den **Namen der Funktion**."
   ]
  },
  {
   "cell_type": "markdown",
   "metadata": {
    "id": "9MsoNWhWUMny"
   },
   "source": [
    "## Zusatzaufgabe\n",
    "(Wenn du hier angekommen bist, denke daran, uns Bescheid zu sagen.)"
   ]
  },
  {
   "cell_type": "markdown",
   "metadata": {
    "id": "a2drkZOXUWrZ"
   },
   "source": [
    "**Aufgabe 1.7 (Zusatz):** Berechne den Kosinus von 0, $\\pi$ und 2$\\pi$. Speichere die Ergebnisse in den Variablen C1, C2 und C3. \n",
    "Berechne danach den Sinus von 0, $\\pi$ und 2$\\pi$. Speichere die Ergebnisse in den Variablen S1, S2 und S3. \n",
    "Lasse dir alle Variablen untereinander ausgeben."
   ]
  },
  {
   "cell_type": "markdown",
   "metadata": {
    "id": "XLjBex3uVlZC"
   },
   "source": [
    "\n",
    "\n",
    "> Tipp: Verwende die numpy Funktionen `np.cos()` und `np.sin()`. $\\pi$ kannst du mit der numpy Funktion `np.pi` bekommen. \n",
    "\n"
   ]
  },
  {
   "cell_type": "code",
   "execution_count": null,
   "metadata": {
    "id": "p4lxo6ubUTup"
   },
   "outputs": [],
   "source": []
  },
  {
   "cell_type": "markdown",
   "metadata": {
    "id": "-dIJct4UXbkf"
   },
   "source": [
    "**Aufgabe 1.8 (Zusatz):** Denke dir drei Strings mit einer Länge von 4, 5 und 6 aus (nenne sie zum Beispiel string1, string2, string3). Kombiniere die Strings, um neue Strings der Länge 14, 16 und 25 zu erhalten. Überprüfe die Länge deiner Strings mit der length-Funktion (`len(input1)`)."
   ]
  },
  {
   "cell_type": "code",
   "execution_count": null,
   "metadata": {
    "id": "7L2EyyBCYxYW"
   },
   "outputs": [],
   "source": []
  },
  {
   "cell_type": "markdown",
   "metadata": {
    "id": "bj1iazNnTxS-"
   },
   "source": [
    "<div class=\"alert alert-block alert-danger\"><b>Breakpoint</b>: Hier bitte auf die anderen warten</div>"
   ]
  },
  {
   "cell_type": "markdown",
   "metadata": {
    "id": "ZWa6XMzGPI2X"
   },
   "source": [
    "---\n",
    "# 2\\. Abschnitt"
   ]
  },
  {
   "cell_type": "markdown",
   "metadata": {
    "id": "NccL2dA3UhRx"
   },
   "source": [
    "## Der schräge Wurf"
   ]
  },
  {
   "cell_type": "markdown",
   "metadata": {
    "id": "faJBzohZyERc"
   },
   "source": [
    "Jetzt habt ihr schon jede Menge Werkzeug zusammen, um mit ein bisschen Physik zu starten. Heute wollen wir, wie schon erwähnt, den schrägen Wurf behandeln."
   ]
  },
  {
   "cell_type": "markdown",
   "metadata": {
    "id": "QxplGNXf_YnB"
   },
   "source": [
    "![schräger Wurf4.JPG](data:image/jpeg;base64,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)"
   ]
  },
  {
   "cell_type": "markdown",
   "metadata": {
    "id": "aLrabiYjUyEX"
   },
   "source": [
    "Beim schrägen Wurf haben wir zwei Bewegungen, welche voneinander unabhängig sind.\n",
    "\n",
    "\n",
    "\n",
    "Zum einen eine **gleichförmige Bewegung in x-Richtung**, welche von der Wurfgeschwindigkeit und dem Wurfwinkel abhängt:\n",
    "\n",
    "$v_x(t) = v_{0,x} = v_0 \\cdot cos(\\alpha)\\quad\\Longrightarrow \\quad x(t) = v_0 \\cdot cos(\\alpha) \\cdot t$\n",
    "\n",
    "Zum anderen eine Bewegung in y-Richtung, welche durch die Erdbeschleunigung eine **gleichmäßig beschleunigte Bewegung ist**:\n",
    "\n",
    "$v_y(t) = v_{0,y} - g \\cdot t = v_0 \\cdot sin(\\alpha) - g \\cdot t \\quad \\Longrightarrow \\quad y(t)= y_0 - \\frac{1}{2} \\cdot g \\cdot t^2  + v_0 \\cdot sin(\\alpha) \\cdot  t$  \n",
    "\n",
    "Wir lösen jetzt die Ortsgleichung $x(t)$ nach $t$ auf und setzen dies in $y(t)$ ein.\n",
    "Dadurch erhalten wir die folgende Formel für den schrägen Wurf:\n",
    "\n",
    "$y(x)=y_0+tan(\\alpha)\\cdot x-\\frac{g}{2\\cdot v_0^2\\cdot(cos(\\alpha))^2}\\cdot x^2$"
   ]
  },
  {
   "cell_type": "markdown",
   "metadata": {
    "id": "GnBs7TzzTxTA"
   },
   "source": [
    "<div class=\"alert alert-block alert-success\"><b>Ab hier seid ihr dran</b> ( bis zur nächsten roten Box) </div>"
   ]
  },
  {
   "cell_type": "markdown",
   "metadata": {
    "id": "qKOoEarMiKes"
   },
   "source": [
    "\n",
    "**Aufgabe 2.1:**\\\n",
    "Ergänze die Variablen, die du für den schrägen Wurf brauchst.\\\n",
    "Wir starten mit $g = 9.81$, $y_0=0$, $\\alpha = 45°$, $v_0 = 10$ und $x=2$.\n",
    "\n",
    "Schreibe nun die Formel für den schrägen Wurf, indem du die Variablen nutzt, und speichere alles in der Variable $y$.\n",
    "\n",
    "Zur Erinnerung: $y(x)=y_0+tan(\\alpha)\\cdot x-\\frac{g}{2\\cdot v_0^2\\cdot(cos(\\alpha))^2}\\cdot x^2$\n",
    "\n",
    "> Tipp: Für Sinus, Kosinus und Tangens gibt es die Funktionen: <br>\n",
    ">  np.sin($\\alpha$)  \n",
    ">  np.cos($\\alpha$)   \n",
    ">  np.tan($\\alpha$)\n",
    "\n",
    ">np.cos($\\alpha$) liest die Winkel in Radiant und nicht in Grad. Hierbei entspricht eine vollständige Drehung $2\\pi$ und nicht $360°$.\\\n",
    "Um unseren Winkel von Grad in Radiant umzurechnen (damit wir ihn wie gewohnt nutzen können), müssen wir die Funktion `np.deg2rad(winkel)` benutzen.\n"
   ]
  },
  {
   "cell_type": "code",
   "execution_count": null,
   "metadata": {
    "id": "7S-dOKsITd6i"
   },
   "outputs": [],
   "source": [
    "# Variablen:\n",
    "\n",
    "y_0 =\n",
    "alpha = np.deg2rad(45)  # Der Winkel von 45 Grad wird in Radiant umgerechnet.\n",
    "v_0 =\n",
    "g = 9.81\n",
    "x =\n",
    "\n",
    "# Formel:\n",
    "\n",
    "y = y_0 + (np.tan(alpha) * x) - (g / (2 * v_0 ** 2 * (np.cos(alpha)) ** 2)) * x ** 2"
   ]
  },
  {
   "cell_type": "markdown",
   "metadata": {
    "id": "rWi4Y3khkTWK"
   },
   "source": [
    "**Aufgabe 2.2:** Wie könnt ihr euch das Ergebnis jetzt ausgeben lassen?"
   ]
  },
  {
   "cell_type": "code",
   "execution_count": null,
   "metadata": {
    "id": "J2jn6_Lfnt0o"
   },
   "outputs": [],
   "source": []
  },
  {
   "cell_type": "markdown",
   "metadata": {
    "id": "vsoJcbQtnuSM"
   },
   "source": [
    "Zum Vergleich: Mit den oben definierten Werten sollte eine Höhe von y = 1.6076 rauskommen, wenn ihr die Funktion y richtig definiert habt.  \n",
    "\n",
    "Um das Ergebnis zu runden, kann man in python die round()-Funktion benutzen.\n",
    "Die _round_-Funktion kann zwei Inputargumente nehmen:\\\n",
    "`round(zahl1,zahl2)`.\\\n",
    "`zahl1` beschreibt die zu rundende Zahl,  \n",
    "`zahl2` die Anzahl der gewünschten Nachkommastellen  \n",
    "\n",
    "**Aufgabe 2.3:**\\\n",
    "Runde das Ergebnis deines schrägen Wurfs. Musst du dafür die ganze Formel nochmal eingeben? Beachte, dass du mit Runden das Ergebnis ungenauer machst."
   ]
  },
  {
   "cell_type": "code",
   "execution_count": null,
   "metadata": {
    "id": "487wWRY4oUpO"
   },
   "outputs": [],
   "source": []
  },
  {
   "cell_type": "markdown",
   "metadata": {
    "id": "lGH02BZZRegR"
   },
   "source": [
    "## Zusatzaufgabe\n",
    "(Wenn du hier angekommen bist, denke daran, auf Zoom den grünen Haken zu setzen.)"
   ]
  },
  {
   "cell_type": "markdown",
   "metadata": {
    "id": "brOmtNblSHv3"
   },
   "source": [
    "**Aufgabe 2.4 (Zusatz):**\\\n",
    "Finde durch ausprobieren heraus, in welcher Entfernung der höchste Punkt der Wurfbahn ungefähr liegt."
   ]
  },
  {
   "cell_type": "code",
   "execution_count": null,
   "metadata": {
    "id": "q2zVvVN0SjWX"
   },
   "outputs": [],
   "source": []
  },
  {
   "cell_type": "markdown",
   "metadata": {
    "id": "njSux9fyjRrX"
   },
   "source": [
    "**Aufgabe 2.5 (Zusatz):**\n",
    "Berechne die Funktion: $y(x)=\\frac{1}{cos(x)}$ für die x-Werte $x1=-0.8\\pi$ und $x2=1.6\\pi$. \n",
    "\n",
    "Speichere die Ergebnisse in den Variablen y1 und y2 und lasse dir die beiden Werte ausgeben."
   ]
  },
  {
   "cell_type": "code",
   "execution_count": null,
   "metadata": {
    "id": "n6AQA6ArlNgp"
   },
   "outputs": [],
   "source": []
  },
  {
   "cell_type": "markdown",
   "metadata": {
    "id": "jcIoxctRTxTD"
   },
   "source": [
    "<div class=\"alert alert-block alert-danger\"><b>Breakpoint</b>: Hier bitte auf die anderen warten</div>"
   ]
  },
  {
   "cell_type": "markdown",
   "metadata": {
    "id": "iI6kiDEgPPqO"
   },
   "source": [
    "---\n",
    "# 3\\. Abschnitt"
   ]
  },
  {
   "cell_type": "markdown",
   "metadata": {
    "id": "ES5RNllQor5R"
   },
   "source": [
    "## Funktionen schreiben"
   ]
  },
  {
   "cell_type": "markdown",
   "metadata": {
    "id": "kQ4jRCUcoujz"
   },
   "source": [
    "Einige Funktionen wie `print(),len() und np.cos()` habt ihr bereits kennengelernt.\\\n",
    "Für viele Dinge, die man machen möchte, gibt es aber noch gar keine fertige Funktion. Deswegen ist es sehr wichtig, dass du lernst, wie du selbst eine Funktion schreiben kannst.\\\n",
    "Fallen dir noch ein paar Gründe ein wofür so eine Funktion praktisch sein könnte?"
   ]
  },
  {
   "cell_type": "markdown",
   "metadata": {
    "id": "Oy9ak-PcpNnq"
   },
   "source": [
    "Der Aufbau einer Funktion muss dabei gewissen Regeln folgen. Im Folgenden seht ihr eine kleine Additionsfunktion, an der wir den Aufbau durchgehen:"
   ]
  },
  {
   "cell_type": "code",
   "execution_count": null,
   "metadata": {
    "id": "PlrQ7fkcpb5V"
   },
   "outputs": [],
   "source": [
    "def AdditionsFunktion(x, y):  # Mit dem Schlüsselwort 'def' beginnen wir die Definition. Wir legen Namen und Argumente fest. Der Doppelpunkt zum Schluss ist sehr wichtig.\n",
    "  Ergebnis = x + y  # Der zur Funktion zugehörige Code ist um zwei Leerzeichen eingerückt.\n",
    "  return Ergebnis  # Hinter dem Schlüsselwort 'return' schreiben wir die Variable, deren Wert von der Funktion zurückgegeben wird."
   ]
  },
  {
   "cell_type": "markdown",
   "metadata": {
    "id": "jbLLdVgmpib5"
   },
   "source": [
    "Probier sie mal aus!"
   ]
  },
  {
   "cell_type": "code",
   "execution_count": null,
   "metadata": {
    "id": "6YnTpwy_plz1"
   },
   "outputs": [],
   "source": [
    "AdditionsFunktion(1, 2)"
   ]
  },
  {
   "cell_type": "markdown",
   "metadata": {
    "id": "Z7GJ4bPRpmMg"
   },
   "source": [
    "Um Python zu sagen, dass eine Funktion definiert wird, beginnen wir die Definition mit dem Schlüsselwort _def_:\n",
    "\n",
    "`def Funktionsname(input1, input2, input3....):`\n",
    "\n",
    "Dabei können so viele Inputargumente wie gewollt (oder benötigt) genutzt werden. Wenn die Anzahl der Inputargumente definiert wurde, müssen der Funktion beim Aufruf aber immer genauso viele Argumente übergeben werden.\\\n",
    "Die Variablen input1, Input2 etc. sind dabei nur Platzhalter, später beim Aufruf können der Funktion z.B. einfach Zahlen übergeben werden. Ihre Reihenfolge ist in unserem Beispiel hier egal, normalerweise muss man sie aber auf jeden Fall beachten.\\\n",
    "Ganz wichtig ist auch, dass alle Zeilen, die nach der Funktionsdefinition kommen und zur Funktion gehören, eingerückt sind. Das Einrücken (um eine gewisse Zahl Leerzeichen) sagt python, dass die Zeilen noch zu der Funktionsdefinition gehören. Es muss für alle Zeilen einheitlich sein.\\\n",
    "Der Ausdruck `return`, gibt an was die Funktion zurückgibt, also ihr Ergebnis.\n",
    " \n",
    " <div class=\"alert alert-block alert-success\"><b>Ab hier seid ihr dran</b> ( bis zur nächsten roten Box) </div>\n",
    " \n",
    "**Aufgabe 3.1:**\\\n",
    "Spiele ein bisschen mit der Additionsfunktion rum. Probiere aus, was passiert, wenn du das return aus der Funktion herausnimmst und sie dann startest.\n",
    "\n",
    ">Tipp: Immer wenn du etwas in der Funktion änderst musst du auch das Codefenster in dem sie definiert ist erneut starten damit die Änderungen auch übernommen werden.\n",
    "\n",
    "\n",
    "\n",
    "**Aufgabe 3.2:**\\\n",
    "Versuche, die verschiedenen Zeilen in einer Funktion unterschiedlich stark einzurücken.\n",
    "\n",
    "**Aufgabe 3.3:**\\\n",
    "Probiere aus, was passiert, wenn du der _AdditionsFunktion_ zu wenige oder zu viele Inputargumente gibst."
   ]
  },
  {
   "cell_type": "markdown",
   "metadata": {
    "id": "wA4tf_fCpbUW"
   },
   "source": [
    "Jetzt wollen wir uns wieder unserem schrägen Wurf zuwenden.\\\n",
    "Vorhin haben wir uns ja bereits die Wurfhöhe für einen bestimmten x-Wert (also in einer bestimmten Distanz vom Abwurf) ausgeben lassen. Um uns jetzt die Höhe für verschiedene Winkel, Anfangsgeschwindigkeiten oder x-Positionen ausgeben zu lassen, wäre es aber viel praktischer, eine Funktion zu haben, die diese vier Werte als Inputargumente nimmt und die Wurfhöhe zurück gibt.\n",
    "\n",
    "**Aufgabe 3.4:**\\\n",
    "Schreibe die Funktion _wurfhoehe_ zu Ende, sodass sie dir die Wurfhöhe für deine Inputparamter $y_0,~v_0,~\\alpha$ und $x$ zurückgibt.\n",
    "\n",
    ">Tipp: y hast du weiter oben schon einmal definiert.\n"
   ]
  },
  {
   "cell_type": "code",
   "execution_count": null,
   "metadata": {
    "id": "9gWEnY_etXww"
   },
   "outputs": [],
   "source": [
    "# Starthöhe, Wurfgeschwindigkeit, Abwurfwinkel, Strecke wo der Wert berechnet werden soll\n",
    "def wurfhoehe(y0,v0,a0,x0):\n",
    "    g = 9.810\n",
    "    alpha = np.deg2rad(a0)  # Wandle die Winkelzahl wieder von Grad zu Radiant um.\n",
    "    y = round((y0 + (np.tan(alpha) * x0) - (g / (2 * v0 ** 2 * (np.cos(alpha)) ** 2)) * x0 ** 2), 2)\n",
    "    return y"
   ]
  },
  {
   "cell_type": "markdown",
   "metadata": {
    "id": "XVSuisTGgwNS"
   },
   "source": [
    "Super, du hast jetzt deine erste eigene Funktion definiert! Probiere sie am besten ein bisschen aus, du kannst dir jetzt zum Beispiel ganz einfach angucken, wie sich das Ergebnis ändert, wenn du einen anderen Startwinkel eingibst.\\\n",
    "Überprüfe aber als erstes, ob die Funktion mit den Eingabewerten $g=9.81, y_0=0, v_0=10$, $\\alpha =45°$ und $x=2$ immer noch die Höhe 1.6076 m ausgibt."
   ]
  },
  {
   "cell_type": "code",
   "execution_count": null,
   "metadata": {
    "id": "KTJGl8QDhRRj"
   },
   "outputs": [],
   "source": [
    "# hier sollst du ausprobieren\n",
    "wurfhoehe(0, 10, 45, 2)"
   ]
  },
  {
   "cell_type": "code",
   "execution_count": null,
   "metadata": {
    "id": "mYo2IB4cN0zW"
   },
   "outputs": [],
   "source": [
    "# Wurfhöhe y ist bei x = 10.19 m  ca. 0 m bei diesen Anfangsbedingungen. Das heißt, dass das Objekt dort den ebenen Boden berührt.\n",
    "print(wurfhoehe(0, 10, 45, 10.19))\n",
    "# Sehr steiler Wurf.\n",
    "print(wurfhoehe(0, 10, 85, 1))"
   ]
  },
  {
   "cell_type": "markdown",
   "metadata": {
    "id": "tEU0pgS6ql2G"
   },
   "source": [
    "## if-Bedingungen"
   ]
  },
  {
   "cell_type": "markdown",
   "metadata": {
    "id": "KFpu49wequQb"
   },
   "source": [
    "Sehr oft soll ein Programm nur etwas machen, wenn gewisse Bedingungen erfüllt sind. Fallen dir Beispiele ein, wo man so etwas brauchen könnte?\\\n",
    "Um solche Bedingungen abzufragen, gibt es das Schlüsselwort _if_. \n",
    "\n",
    "Um dieses zu verstehen, müssen wir erst noch ein paar Zeichen klären, die ihr sicherlich aus dem Matheunterricht kennt, aber man muss sie ja auch am Computer richtig schreiben.\n",
    "\n",
    "Die wichtigsten Zeichen sind:\n",
    "\n",
    "`<` kleiner als\n",
    "\n",
    "`>` größer als\n",
    "\n",
    "`<=` kleiner gleich \n",
    "\n",
    "`>=` größer gleich\n",
    "\n",
    "`==` gleich (das doppelte `==` Zeichen nimmt man wenn man zwei Werte vergleichen möchte, das einfach `=` wenn man eine Variable definiert).\n",
    "\n",
    "**Aufgabe 3.5:**\\\n",
    "Versucht mal, damit ein paar Zahlen zu vergleichen. Was kommt raus, wenn ein Vergleich stimmt: z.B. `3 < 5`, und was wenn nicht?"
   ]
  },
  {
   "cell_type": "code",
   "execution_count": null,
   "metadata": {
    "id": "QKu9e-IsqrBh"
   },
   "outputs": [],
   "source": [
    "# probiere hier ein paar Vergleiche aus\n"
   ]
  },
  {
   "cell_type": "markdown",
   "metadata": {
    "id": "uq2uPDMbsLSz"
   },
   "source": [
    "Das Schlüsselwort `True` zeigt immer an, dass ein Vergleich wahr ist, `False` hingegen, dass er falsch ist. \\\n",
    "Bei den Beispielen hier ist das natürlich recht einfach zu sehen. Oft ist es aber sehr gut, wenn man Dinge auf so einfache Art vergleichen kann. \\\n",
    "In der nächsten Zeile seht ihr ein Beispiel für eine if-Bedingung. \n",
    "\n",
    "**Aufgabe 3.6:**\\\n",
    "Führe die Zelle aus und überlege, was passieren könnte, wenn du x = 6 definiert."
   ]
  },
  {
   "cell_type": "code",
   "execution_count": null,
   "metadata": {
    "id": "9L_wZ1rcszsl"
   },
   "outputs": [],
   "source": [
    "x =\n",
    "if x < 5:\n",
    "  print(x)"
   ]
  },
  {
   "cell_type": "markdown",
   "metadata": {
    "id": "OvOhjUUusqVH"
   },
   "source": [
    "Das Programm guckt nach dem _if_-Schlüsselwort, ob das Ergebnis des Vergleichs danach `True` ergibt. Nur dann führt es den folgenden eingerückten Code aus.\\\n",
    "Wie oben bei den Funktionen muss man auch bei der if-Bedingung darauf achten, dass alles, was dazugehört **richtig eingerückt** ist.\\\n",
    "Man kann auch eine Anweisung geben, die ausgeführt werden soll, wenn die Bedingung **nicht** erfüllt ist. Das geht über das _else_-Schlüsselwort (engl. für 'sonst').\n",
    "\n",
    "**Aufgabe 3.7:**\\\n",
    "Definiere verschieden Werte für i und überlege dir, was dann passiert. Prüfe nach, ob du das Konzept richtig verstanden hast, indem du die Zelle ausführst. "
   ]
  },
  {
   "cell_type": "code",
   "execution_count": null,
   "metadata": {
    "id": "IQayRqbQtvbj"
   },
   "outputs": [],
   "source": [
    "# Definiere selber i mit verschiedenen Werten und probiere aus, was ausgegeben wird.\n",
    "i = 5\n",
    "if i == 5:\n",
    "  print(\"Oh i hat den Wert 5\")\n",
    "else:\n",
    "  print(\"Stimmt garnicht!\")"
   ]
  },
  {
   "cell_type": "markdown",
   "metadata": {
    "id": "MEzd_y9uuOHQ"
   },
   "source": [
    "Das _else_-Schlüsselwort kann nicht alleine stehen, weil es immer an die Bedingung geknüpft ist, die hinter _if_ angegeben ist."
   ]
  },
  {
   "cell_type": "markdown",
   "metadata": {
    "id": "l2y9Lq4NSQLC"
   },
   "source": [
    "## Zusatzaufgabe\n",
    "(Wenn du hier angekommen bist, denke daran, auf Zoom den grünen Haken zu setzen.)"
   ]
  },
  {
   "cell_type": "markdown",
   "metadata": {
    "id": "lG5c_Lo-SSX6"
   },
   "source": [
    "**Aufgabe 3.8 (Zusatz):** \\\n",
    "Schreib eine if-Bedingung, um zu überprüfen, ob der Ball noch in der Luft ist oder den Boden bereits berührt.\n",
    ">Tipp: Die Höhe des Balls hast du in der Variable _y_ gespeichert."
   ]
  },
  {
   "cell_type": "code",
   "execution_count": null,
   "metadata": {
    "id": "YD9gfk3Q606n"
   },
   "outputs": [],
   "source": [
    "if y <= 0:\n",
    "    print(\"Der Ball hat den Boden breührt oder ist durchgefallen...\")"
   ]
  },
  {
   "cell_type": "markdown",
   "metadata": {
    "id": "by7xP6lCcVsk"
   },
   "source": [
    "**Aufgabe 3.9 (Zusatz):** Schreibe eine Multiplikationsfunktion, die drei Werte entgegennimmt (z.B. x, y und z) und diese miteinander multipliziert. \n",
    "Lasse dir das Ergebnis für x=3, y=4 und z=5, sowie für x=7, y=8 und z=9 ausgeben (Probe: Das erste Ergebnis ist 60 und das zweite 504).\n",
    "\n",
    "\n",
    "> Tipp: Orientiere dich an der `Additionsfunktion(x,y)` ganz oben im Abschnitt. Statt zwei Variablen, werden aber drei benötigt.\n",
    "\n"
   ]
  },
  {
   "cell_type": "code",
   "execution_count": null,
   "metadata": {
    "id": "qV311WyLdQBr"
   },
   "outputs": [],
   "source": []
  },
  {
   "cell_type": "markdown",
   "metadata": {
    "id": "OSYcjngOTxTI"
   },
   "source": [
    "<div class=\"alert alert-block alert-danger\"><b>Breakpoint</b>: Hier bitte auf die anderen warten</div>"
   ]
  },
  {
   "cell_type": "markdown",
   "metadata": {
    "id": "Y-2VjG8EPYJ3"
   },
   "source": [
    "---\n",
    "# 4\\. Abschnitt"
   ]
  },
  {
   "cell_type": "markdown",
   "metadata": {
    "id": "86XbDqWMsR64"
   },
   "source": [
    "## Listen"
   ]
  },
  {
   "cell_type": "markdown",
   "metadata": {
    "id": "l8Y5s40MhPKI"
   },
   "source": [
    "Als nächstes möchten wir das Konzept der Liste einführen.\\\n",
    "Eine Liste ist eigentlich das, was der Name auch sagt, also eine Liste zum Beispiel bestehend aus Zahlen oder Strings. Eine Liste wird durch eckige Klammern \"[]\" markiert, in denen dann unsere Werte stehen.\n",
    "\n",
    "Hier seht ihr eine Beispielliste, die wir in der Variable liste1 speichern:"
   ]
  },
  {
   "cell_type": "code",
   "execution_count": null,
   "metadata": {
    "id": "XKS8mcV0h1cZ"
   },
   "outputs": [],
   "source": [
    "# Führe die Zelle aus\n",
    "liste1 = [1,3,5,2,4,6]\n",
    "print(liste1)"
   ]
  },
  {
   "cell_type": "markdown",
   "metadata": {
    "id": "f95P9L80h05o"
   },
   "source": [
    "Hm, da passiert ja gar nichts. Wie kann man sich die Liste jetzt nochmal ausgeben lassen? \n",
    "\n",
    "<div class=\"alert alert-block alert-success\"><b>Ab hier seid ihr dran</b> ( bis zur nächsten roten Box) </div>\n",
    "\n",
    "**Aufgabe 4.1:**\\\n",
    "Schreibe eine Liste mit Worten (also aus Strings) und gib sie aus.\n",
    ">Tipp: Die einzelnen Einträge in einer Liste werden durch Kommata getrennt.\n",
    "\n",
    "\n",
    "\n"
   ]
  },
  {
   "cell_type": "code",
   "execution_count": null,
   "metadata": {
    "id": "iXuGF06Win64"
   },
   "outputs": [],
   "source": [
    "# Definiere hier deine Liste aus strings und gib sie aus\n"
   ]
  },
  {
   "cell_type": "markdown",
   "metadata": {
    "id": "9nOujOV9itNn"
   },
   "source": [
    "**Aufgabe 4.2:**\\\n",
    "Erzeuge eine leere Liste."
   ]
  },
  {
   "cell_type": "code",
   "execution_count": null,
   "metadata": {
    "id": "NAO_rK11iweO"
   },
   "outputs": [],
   "source": [
    "# Erzeuge eine leere Liste\n",
    "\n",
    "leere_liste = []"
   ]
  },
  {
   "cell_type": "markdown",
   "metadata": {
    "id": "bdqIaRORi0Ht"
   },
   "source": [
    "Bei Listen gibt es die Möglichkeit, einzelne Einträge zu ändern, sie also länger oder kürzer zu machen. \n",
    "Das geschieht meistens mit sogenannten Methoden. Eine Methode ist so ähnlich wie eine Funktion, macht also eine vordefinierte Sache mit unserem Objekt (in unserem Fall der Liste).\\\n",
    "Anders als eine Funktion gehört sie direkt zu unserem Objekt dazu und deswegen müssen wir das ein bisschen anders aufschreiben. \n",
    "Ein Beispiel für eine Methode ist die _append_-Methode, die einen Wert ans Ende einer Liste anhängt.\n",
    "\n",
    "Um die Methode anwenden zu können, brauchen wir zunächst eine Liste, nennen wir sie wieder liste1. Die Methode wird dann wie folgt aufgerufen:\n",
    "\n",
    "`liste1.append(x)`.\n",
    "\n",
    "Statt x musst du einfach das hineinschreiben, was du anhängen willst, das kann natürlich eine Zahl oder auch ein String sein.\n",
    "\n",
    "**Aufgabe 4.3:**\\\n",
    "Vervollständige das untere Programm, indem du Werte an die leere Liste anhängst.\n"
   ]
  },
  {
   "cell_type": "code",
   "execution_count": null,
   "metadata": {
    "id": "1UVntKHikyrR"
   },
   "outputs": [],
   "source": [
    "liste = [] # leere Liste erstellen\n",
    "# Hänge einen Wert hinten an die Liste anhängen\n",
    "\n",
    "liste.append(\"Hallo\")\n",
    "\n",
    "print(liste) # Liste ausgeben\n"
   ]
  },
  {
   "cell_type": "code",
   "execution_count": null,
   "metadata": {
    "id": "OfltmHfmnI6g"
   },
   "outputs": [],
   "source": [
    "# Hänge einen Zweiten Wert anhängen\n",
    "liste.append(\"Welt!\")\n",
    "\n",
    "print(liste) # Liste wieder ausgeben"
   ]
  },
  {
   "cell_type": "markdown",
   "metadata": {
    "id": "klF5ZIo_l6OM"
   },
   "source": [
    "Wenn man auf einzelne Elemente einer Liste zugreifen möchte, kann man das auch mit eckigen Klammern machen.\n",
    "\n"
   ]
  },
  {
   "cell_type": "code",
   "execution_count": null,
   "metadata": {
    "id": "_EPxEOmZmXSk"
   },
   "outputs": [],
   "source": [
    "# Definiere eine Liste.\n",
    "liste = [1,2,3,4,5]\n",
    "# Rufe das Element mit Index 1 ab.\n",
    "liste[1]"
   ]
  },
  {
   "cell_type": "markdown",
   "metadata": {
    "id": "ZIHJ0drDme6c"
   },
   "source": [
    "Du siehst dass du mit liste[1] auf das zweite Element der Liste zugreifst. Die meisten Programmiersprachen machen es so, dass sie die Indexierung bei Null beginnen. Das erste Element trägt also den Index 0. "
   ]
  },
  {
   "cell_type": "code",
   "execution_count": null,
   "metadata": {
    "id": "OtZ353jamvYM"
   },
   "outputs": [],
   "source": [
    "liste[0]"
   ]
  },
  {
   "cell_type": "markdown",
   "metadata": {
    "id": "zn5A8UqIeSSa"
   },
   "source": [
    "# Zusatzaufgabe\n",
    "(Wenn du hier angekommen bist, denke daran, auf Zoom den grünen Haken zu setzen.)\n"
   ]
  },
  {
   "cell_type": "markdown",
   "metadata": {
    "id": "o-rXc3Teem7B"
   },
   "source": [
    "**Aufgabe 4.4 (Zusatz):** Erstelle zwei Listen, liste1 mit den Zahlen von 1 bis 10 und liste2, die leer ist.\n",
    "Füge mithilfe der `.append()`-Funktion zuerst den 3., danach den 8. und schließlich den 5. Eintrag von liste1 an die liste2 an. Gib dir liste2 aus.\n",
    "\n",
    "\n",
    "> Tipp: Mit der Funkton `liste.append(andereliste[0])` kann man den ersten Eintrag von andereliste an liste anfügen. \n",
    "\n"
   ]
  },
  {
   "cell_type": "code",
   "execution_count": null,
   "metadata": {
    "id": "5xet572rgJtm"
   },
   "outputs": [],
   "source": []
  },
  {
   "cell_type": "markdown",
   "metadata": {
    "id": "x6qFz21nTxTL"
   },
   "source": [
    "<div class=\"alert alert-block alert-danger\"><b>Breakpoint</b>: Hier bitte auf die anderen warten</div>"
   ]
  },
  {
   "cell_type": "markdown",
   "metadata": {
    "id": "B8u_BJNtPe3T"
   },
   "source": [
    "---\n",
    "# 5\\. Abschnitt"
   ]
  },
  {
   "cell_type": "markdown",
   "metadata": {
    "id": "Hf3ysrm_njbB"
   },
   "source": [
    "## Schleifen"
   ]
  },
  {
   "cell_type": "markdown",
   "metadata": {
    "id": "fEw4U6vsnmC9"
   },
   "source": [
    "Gleich wenden wir uns wieder dem schrägen Wurf zu, aber ein ganz wichtiges Konzept brauchen wir noch, die Schleifen.\n",
    "Schleifen benötigen wir, um eine Aktion ganz oft hintereinander auführen zu können, ohne dass wir den Code so oft schreiben müssen.\n",
    "\n",
    "Hier ein erstes Beispiel:"
   ]
  },
  {
   "cell_type": "code",
   "execution_count": null,
   "metadata": {
    "id": "kt2nUV0UoCAQ"
   },
   "outputs": [],
   "source": [
    "# eine Liste erstellen\n",
    "liste = [1, 2, 10, 4, 5]\n",
    "\n",
    "\n",
    "# eine for-Schleife benutzen\n",
    "for i in liste:  # Das Schlüsselwort 'for' leitet die Schleife ein, gefolgt von der Variable, die die Werte 'in' der Liste annimmt. Wir brauchen wieder einen Doppelpunkt!\n",
    "  print(i)  # Der Code, der mehrfach ausgeführt werden soll, muss wieder eingerückt sein."
   ]
  },
  {
   "cell_type": "markdown",
   "metadata": {
    "id": "QLOSDAvQoVfm"
   },
   "source": [
    "In dieser Schleife (beginnent mit dem _for_-Schlüsselwort) nimmt die Variable i nacheinander die Werte der Liste an.\n",
    "Im Körper (der eingerückte Code hinter dem Doppelpunkt) wird dann definiert, was damit gemacht wird (für jedes Element _i_ in der Liste _liste_ wird der Code im Körper ausgeführt).\\\n",
    "for-schleifen sind auch super, um Listen zu verändern oder leere Listen zu füllen.\n",
    "\n",
    "<div class=\"alert alert-block alert-success\"><b>Ab hier seid ihr dran</b> ( bis zur nächsten roten Box) </div>\n",
    "\n",
    "**Aufgabe 5.1:**\\\n",
    "In der nächsten Zeile wollen wir alle Werte der Liste1 quadrieren und das Ergebnis für jeden Wert in der Liste 2 speichern. Führe die untere Zelle aus und gucke was fehlt. Dann vervollständige den angefangenen Code:"
   ]
  },
  {
   "cell_type": "markdown",
   "metadata": {
    "id": "C00w10Ef6OA3"
   },
   "source": [
    "> Tipp: Denke an die .append() Funktion"
   ]
  },
  {
   "cell_type": "code",
   "execution_count": null,
   "metadata": {
    "id": "xJhOqaI0pB69"
   },
   "outputs": [],
   "source": [
    "# erstelle eine Liste mit Werten\n",
    "liste1 = [1,2,10,4,5]\n",
    "# erstelle eine leere Liste \n",
    "liste2 = []\n",
    "for i in liste1:\n",
    "  liste2.append(i**2)\n",
    "\n",
    "print(liste1)  \n",
    "print(liste2)"
   ]
  },
  {
   "cell_type": "markdown",
   "metadata": {
    "id": "3ZlZPG_RAMSO"
   },
   "source": [
    "## Der schräge Wurf 2.0"
   ]
  },
  {
   "cell_type": "markdown",
   "metadata": {
    "id": "iHcQaxYMqcU-"
   },
   "source": [
    "Zurück zum schrägen Wurf. Wir wollen jetzt für den schrägen Wurf die Höhe in bestimmten Abständen ausgeben. Dafür können wir die for-Schleifen aus der vorherigen Aufgabe und auch unsere selbstgeschriebene Funktion _wurfhoehe_ aus Abschnitt 3 verwenden.\\\n",
    "Da wir für unterschiedliche `x-werte` die Höhe berechnen wollen, bietet es sich an, diese in eine Liste zu schreiben. Diese Liste `x_werte` wurde im Code schon definiert.\n",
    "\n",
    "**Aufgabe 5.2:**\\\n",
    "Passe den Code so an, dass der leeren Liste `y_werte` die berechneten Höhen angehängt werden.  \n",
    "\n",
    "> Zur Erinnerung: Die Funktion `wurfhoehe()` kann als Argumente die Anfangshöhe $~y_0$, die Anfangsgeschwindigkeit $~ v_0$, den Abwurfwinkel $~\\alpha$ und die Distanz $~x~$  entgegennehmen und gibt uns dann den dazugehörigen y-Wert, also die Höhe, in der sich der Ball dort befindet, zurück."
   ]
  },
  {
   "cell_type": "code",
   "execution_count": null,
   "metadata": {
    "id": "PsYBgEutyLud"
   },
   "outputs": [],
   "source": [
    "x_werte = [0.0, 0.5, 1.0, 1.5, 2.0, 2.5, 3.0, 3.5, 4.0, 4.5, 5.0, 5.5, 6.0, 6.5, 7.0, 7.5, 8.0, 8.5, 9.0, 9.5, 10.0, 10.5]\n",
    "y_werte = []\n",
    "\n",
    "# for-Schleife, welche für jeden x_wert das Ergebniss der Funktion wurfhoehe() an y_werte anhängt.\n",
    "for i in x_werte:\n",
    "  y_i = wurfhoehe(0, 10, 45, i)\n",
    "  y_werte.append(y_i)\n",
    "  print(\"x-Wert: \" + str(i) + \"\\ty-Wert: \" + str(y_i)) # gibt zu jeder Weite die Höhe aus\n"
   ]
  },
  {
   "cell_type": "markdown",
   "metadata": {
    "id": "tbmLS4e50-2p"
   },
   "source": [
    "Sehr gut.  \n",
    "Wir können an den Listen ablesen, dass zwischen 10,0 m und 10,5 m Weite unser Wurfobjekt den Boden berühren würde, wenn wir auf einer Ebene stehen. Den höchsten Punkt erreichen wir mit 2.5475 m bei einer Weite von ca. 5 m.  Um dies noch genauer sagen zu können, müssten wir für mehr x-Werte die Höhe berechnen.\n",
    "\n",
    "Wir wollen nun erreichen, dass nur Werte hinzugefügt werden, bei denen sich das Objekt oberhalb des Bodens befindet, der y-Wert soll also größer als 0 sein.\\\n",
    "\n",
    "\n",
    "## Zusatzaufgabe\n",
    "(Wenn du hier angekommen bist, denke daran, auf Zoom den grünen Haken zu setzen.)\n",
    "\n",
    "**Aufgabe 5.3:**\\\n",
    "Passe den Code an, sodass nur y-Werte  zur Liste hinzgefügt werden, die größer als 0 sind. Für y_Werte kleiner als 0 soll stattdessen einfach 0 hinzugefügt werden.\n",
    ">Tipp: Du kannst dafür wieder eine if-Bedingung nutzen."
   ]
  },
  {
   "cell_type": "code",
   "execution_count": null,
   "metadata": {
    "colab": {
     "base_uri": "https://localhost:8080/",
     "height": 138
    },
    "id": "mDaspcgH-dIC",
    "outputId": "67239a0d-092e-49f3-de89-058e24b4b45e"
   },
   "outputs": [],
   "source": [
    "# Unsere x-Werte in eine Liste schreiben, (alternativ: np.arange(0, 11, 0.5):)\n",
    "x_werte = [0.0, 0.5, 1.0, 1.5, 2.0, 2.5, 3.0, 3.5, 4.0, 4.5, 5.0, 5.5, 6.0, 6.5, 7.0, 7.5, 8.0, 8.5, 9.0, 9.5, 10.0, 10.5] #np.arange(1,10,0.1) \n",
    "y_werte = []\n",
    "\n",
    "# for-Schleife, welche für jeden x_wert das Ergebniss der Funktion wurfhoehe() an y_werte anhängt.\n",
    "for i in x_werte:\n",
    "    y_i = wurfhoehe(0,10, 45, i)\n",
    "    if y_i > 0:\n",
    "      y_werte.append(y_i)\n",
    "      print(\"x-Wert: \" + str(i) + \"\\ty-Wert: \" + str(y_i))\n",
    "    else:\n",
    "      y_werte.append(0)"
   ]
  },
  {
   "cell_type": "markdown",
   "metadata": {
    "id": "7WCG61meTxTQ"
   },
   "source": [
    "<div class=\"alert alert-block alert-danger\"><b>Breakpoint</b>: Hier bitte auf die anderen warten</div>"
   ]
  },
  {
   "cell_type": "markdown",
   "metadata": {
    "id": "ZGl2JloSPpJA"
   },
   "source": [
    "---\n",
    "# 6\\. Abschnitt"
   ]
  },
  {
   "cell_type": "markdown",
   "metadata": {
    "id": "EQ-Vzd972ONi"
   },
   "source": [
    "## Plotten"
   ]
  },
  {
   "cell_type": "markdown",
   "metadata": {
    "id": "hAMUBms82Q-8"
   },
   "source": [
    "Zur Darstellung dieser Daten bietet es sich an, sie in ein Diagramm zu plotten. Dafür können wir wieder wie bei numpy ein Module importieren und es direkt umbenennen.\\\n",
    "Zum Plotten wird häufig das Modul `matplotlib.pyplot` verwendet und plt genannt.  "
   ]
  },
  {
   "cell_type": "code",
   "execution_count": null,
   "metadata": {
    "id": "brTuqi9X5HbI",
    "outputId": "d138d217-829d-4f51-8095-0fff9b969b28"
   },
   "outputs": [],
   "source": [
    "# importiere hier das Modul\n",
    "import matplotlib.pyplot as plt \n",
    "print(\"matplotlib.pyplot imported\")"
   ]
  },
  {
   "cell_type": "markdown",
   "metadata": {
    "id": "sa5bm0-e6Etv"
   },
   "source": [
    "Um nun etwas zu Plotten, brauchen wir als erstes die x- und y-Werte, die wir in einem Diagramm darstellen wollen. Unten siehst du ein Beispiel, wie man aus zwei Listen mit x- und y-Werten einen Plot erstellt.\n",
    "\n",
    "<div class=\"alert alert-block alert-success\"><b>Ab hier seid ihr dran</b> ( bis zur nächsten roten Box) </div>\n",
    "\n",
    "**Aufgabe 6.1:**\\\n",
    "Fülle die beiden Listen mit Werten und führe die Zelle aus. Was passiert, wenn in den Listen nicht gleich viele Werte sind ? "
   ]
  },
  {
   "cell_type": "code",
   "execution_count": null,
   "metadata": {
    "id": "EJ2rKvyk7qXz"
   },
   "outputs": [],
   "source": [
    "x = np.arange(0,25,1)\n",
    "y = []\n",
    "\n",
    "for i in x:\n",
    "    y.append(i**2)\n",
    "\n",
    "# Die Werte aus den Listen x und y plotten.\n",
    "plt.plot(x,y,\"*\")\n",
    "plt.show()"
   ]
  },
  {
   "cell_type": "code",
   "execution_count": null,
   "metadata": {
    "id": "Cwu-dlujN00C"
   },
   "outputs": [],
   "source": []
  },
  {
   "cell_type": "markdown",
   "metadata": {
    "id": "18VFl94u8n4H"
   },
   "source": [
    "**Aufgabe 6.2:**\\\n",
    "Plotte nun auch unsere `x_werte` und die dazugehörigen berechneten `y_werte`.  \n",
    "> Tipp: Diese beiden Listen `x_werte` und `y_werte` hast du weiter oben im letzten Abschnitt schon definiert."
   ]
  },
  {
   "cell_type": "code",
   "execution_count": null,
   "metadata": {
    "id": "tqVUuYpi91Sz"
   },
   "outputs": [],
   "source": [
    "# Plotte x_werte und y_werte\n",
    "\n",
    "plt.plot(x_werte,y_werte,\"-\")\n",
    "plt.xlabel(\"s in m\")\n",
    "plt.ylabel(\"h in m\")\n",
    "plt.grid(True)\n",
    "plt.show()\n"
   ]
  },
  {
   "cell_type": "markdown",
   "metadata": {
    "id": "LMHS85-JJRqx"
   },
   "source": [
    ">Tipp: Mit `plt.xlabel(\" \")` und `plt.ylabel(\" \")` kannst du die x- und y-Achse beschriften. Außerdem kannst du mit `plt.grid(True)` ein Gitter hinter den Plot legen. Des weiteren kannst du `plt.plot(x,y,\"*\")` als drittes Argument ein `-` oder `*` geben, damit die Werte entweder mit einer Linie verbunden oder als Punkte eingetragen werden. Da wir nur für bestimmte x-Werte die Höhen  berechnet haben, sollten wir Punkte nutzen."
   ]
  },
  {
   "cell_type": "markdown",
   "metadata": {
    "id": "9qFN-GsAGI2B"
   },
   "source": [
    "Super, nun können wir uns anhand unserer berechneten Werte die Form der Flugkurve angucken!\n",
    "\n",
    " "
   ]
  },
  {
   "cell_type": "markdown",
   "metadata": {
    "id": "mvdEjaNlVgZJ"
   },
   "source": [
    "Im Folgenden wollen wir eine Funktion schreiben die uns eine Wurfbahn in Abhängigkeit von der Anfangshöhe, der Anfangsgeschwindigkeit und des Abwurfwinkels plottet.\n",
    "Die Funktion hat noch zwei weitere Input-Argumente: eine Liste mit x-Werten und einen optionalen Plotparameter \"symbol\", der das Aussehen der Kurve bestimmt. \n",
    "\n",
    "**Aufgabe 6.3:**\\\n",
    "Versuche die schon geschrieben Funktion nachzuvollziehen und sie an den leeren Stellen (...) zu ergänzen."
   ]
  },
  {
   "cell_type": "code",
   "execution_count": null,
   "metadata": {
    "id": "iFZ8ZrLNVgZK"
   },
   "outputs": [],
   "source": [
    "def PlotWurf(y0, v0, alpha, x_werte, symbol=\"-\"):\n",
    "    y_werte = [] # hier muss ergänzt werden\n",
    "    for i in x_werte:\n",
    "        y_i = wurfhoehe(y0,v0, alpha, i)\n",
    "        if y_i >0:  # hier soll nur der Wert angehängt werden wenn der Ball noch nicht gelandet ist\n",
    "          y_werte.append(y_i)\n",
    "        else:\n",
    "          y_werte.append(0) # hier muss ergänzt werden  \n",
    "    plt.plot(x_werte,y_werte,symbol)"
   ]
  },
  {
   "cell_type": "markdown",
   "metadata": {
    "id": "f8wXulhrVgZL"
   },
   "source": [
    "Die Funktion kann jetzt für verschiedene Anfangswerte aufgerufen werden um eine Flugbahn zu plotten.\n",
    "Hier zum Beispiel für zwei verschiedene Winkel:"
   ]
  },
  {
   "cell_type": "code",
   "execution_count": null,
   "metadata": {
    "id": "J314cV_VVgZL"
   },
   "outputs": [],
   "source": [
    "PlotWurf(0, 10, 45, x_werte)\n",
    "PlotWurf(0, 10, 30, x_werte,\"x\") # der 5. Eintrag \"x\" ist optional uns bestimmt das Aussehen der Kurve\n",
    "plt.xlabel(\"s in m\")\n",
    "plt.ylabel(\"h in m\")\n",
    "plt.grid(True)\n",
    "plt.show()\n"
   ]
  },
  {
   "cell_type": "markdown",
   "metadata": {
    "id": "d5d4MKLdVgZL"
   },
   "source": [
    "Wir können die Funktion so oft aufrufen wie wir wollen und mehrere Flugbahnen in einen Plot malen.\n",
    "Mit plt.show() wird unsere Abbildung mit allen geplotteten Flugbahnen gezeigt.\\\n",
    "\\\n",
    "Im Folgenden wird unsere Ball manchmal weiter fliegen und wir brauchen eine längere Liste an x-Werten, um zu sehen wo der Ball landet. Deswegen solltest du noch eine Funktion kennen lernen, die dir ganz schnell eine lange Liste aus x-Werten erstellt:\\\n",
    "`np.arange(1,10,0.5)` erstellt eine Liste, die in 0.5er Schritten von 1 bis 10 läuft.\n",
    "Führe die nächste Zelle aus und guck was genau der `np.arange` Befehl macht."
   ]
  },
  {
   "cell_type": "code",
   "execution_count": null,
   "metadata": {
    "id": "6ALHgCncVgZL"
   },
   "outputs": [],
   "source": [
    "x_werte = np.arange(1,10,0.5) # hier wird die Liste mit x_werten gefüllt.\n",
    "print(x_werte)\n"
   ]
  },
  {
   "cell_type": "markdown",
   "metadata": {
    "id": "IfPxsirwVgZL"
   },
   "source": [
    "**Aufgabe 6.4:**\\\n",
    "Vergleicht den Einfluss der verschiedenen Inputargumente. Welchen Einfluss hat der Anfangswinkel, die Anfangshöhe und die Anfangsgeschwindigkeit auf die Flugbahn.\n",
    "\n",
    ">Tipp: Mache für jeden der drei Inputargumente einen Plot bei dem du verschiedene Kurven plottest, bei denen du zwei Parameter festhälst und nur einen der Parameter veränderst."
   ]
  },
  {
   "cell_type": "code",
   "execution_count": null,
   "metadata": {
    "id": "ETrOGjrAVgZM"
   },
   "outputs": [],
   "source": [
    "# hier sollst du mehrere Kurven plotten bei denen du nur den Anfangswinkel veränderst\n",
    "x_werte = np.arange(0, 50, 0.5)\n",
    "PlotWurf(0, 10, 30, x_werte,\"-\")\n",
    "\n",
    "plt.xlabel(\"s in m\")\n",
    "plt.ylabel(\"h in m\")\n",
    "plt.grid(True)\n",
    "plt.show()\n",
    "\n",
    "plt.show()"
   ]
  },
  {
   "cell_type": "code",
   "execution_count": null,
   "metadata": {
    "id": "0582luQgVgZM"
   },
   "outputs": [],
   "source": [
    "# hier sollst du mehrere Kurven plotten bei denen du nur die Anfangshöhe veränderst\n",
    "x_werte = np.arange(0, 50, 0.5)\n",
    "PlotWurf(0, 10, 30, x_werte, \"-\")\n",
    "\n",
    "plt.xlabel(\"s in m\")\n",
    "plt.ylabel(\"h in m\")\n",
    "plt.grid(True)\n",
    "plt.show()\n",
    "\n",
    "plt.show()"
   ]
  },
  {
   "cell_type": "code",
   "execution_count": null,
   "metadata": {
    "id": "jliNvgafVgZM"
   },
   "outputs": [],
   "source": [
    "# hier sollst du mehrere Kurven plotten bei denen du nur die Anfangsgeschwindigkeit veränderst\n",
    "x_werte = np.arange(0, 50, 0.5)\n",
    "PlotWurf(0, 10, 30, x_werte, \"-\")\n",
    "\n",
    "plt.xlabel(\"s in m\")\n",
    "plt.ylabel(\"h in m\")\n",
    "plt.grid(True)\n",
    "plt.show()\n",
    "\n",
    "plt.show()"
   ]
  },
  {
   "cell_type": "markdown",
   "metadata": {
    "id": "LN-jr8KXVgZN"
   },
   "source": [
    "## Zusatzaufgabe\n",
    "(Wenn du hier angekommen bist, denke daran, auf Zoom den grünen Haken zu setzen.)\n",
    "\n",
    "**Aufgabe 6.5:**\\\n",
    "Überlege welche Anfangswerte sinnvoll sind. Überlege was passiert, wenn du den Ball mit einem Winkel größer als 90° oder kleiner als 0° abwirfst.\\\n",
    "Was bedeutet eine negative Anfangsgeschwindigkeit?\\\n",
    "Prüfe deine Überlegungen mit Hilfe der Plots.\n",
    "> Bei `np.arange` kannst du auch x-Listen mit negativen x-Werten erstellen, z.B. mit `np.arange(-5,5,0.5)`"
   ]
  },
  {
   "cell_type": "code",
   "execution_count": null,
   "metadata": {
    "id": "n3rWe_xbVgZN"
   },
   "outputs": [],
   "source": []
  },
  {
   "cell_type": "markdown",
   "metadata": {
    "id": "kvDMI4HFWasF"
   },
   "source": [
    "---"
   ]
  },
  {
   "cell_type": "code",
   "execution_count": null,
   "metadata": {
    "colab": {
     "base_uri": "https://localhost:8080/"
    },
    "id": "wwdmJxPYWbbC",
    "outputId": "fd19acc0-2898-4f04-ba01-13a606a079d0"
   },
   "outputs": [],
   "source": [
    "print(\"Vielen Dank fürs Mitmachen! Wir hoffen es hat euch Spaß gemacht und ihr konntet einiges mitnehmen :). Bis zum nächsten Mal!\")"
   ]
  },
  {
   "cell_type": "code",
   "execution_count": null,
   "metadata": {},
   "outputs": [],
   "source": []
  }
 ],
 "metadata": {
  "colab": {
   "collapsed_sections": [
    "kBB3a9oAO4oD",
    "k2WN48boNoat",
    "pWxyvFDT-bCH",
    "Zgqc-yGa4cdJ",
    "9MsoNWhWUMny",
    "NccL2dA3UhRx",
    "ES5RNllQor5R",
    "tEU0pgS6ql2G",
    "86XbDqWMsR64",
    "Hf3ysrm_njbB",
    "3ZlZPG_RAMSO"
   ],
   "name": "schräger_wurf_neu.ipynb",
   "provenance": []
  },
  "kernelspec": {
   "display_name": "Python 3",
   "language": "python",
   "name": "python3"
  },
  "language_info": {
   "codemirror_mode": {
    "name": "ipython",
    "version": 3
   },
   "file_extension": ".py",
   "mimetype": "text/x-python",
   "name": "python",
   "nbconvert_exporter": "python",
   "pygments_lexer": "ipython3",
   "version": "3.9.1"
  }
 },
 "nbformat": 4,
 "nbformat_minor": 4
}
