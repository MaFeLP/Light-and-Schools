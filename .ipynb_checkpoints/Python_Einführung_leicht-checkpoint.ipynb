{
 "cells": [
  {
   "cell_type": "markdown",
   "metadata": {},
   "source": [
    "* Die Plattform, auf der wir uns befinden, heißt **JupyterLab**. Hier gibt es ein paar Dinge zu beachten.\n",
    "  1. Den Code führt ihr hier aus, indem ihr auf den kleinen Pfeil bzw. das Dreieck oben im Fenster drückt.\n",
    "\n",
    "  2. Es wird oft leere Codezellen geben, in denen ihr dann selbst etwas hineinschreiben sollt.\n",
    "\n",
    "  3. Eine **horizontale Linie** ist immer ein **Breakpoint**, bei dem wir **aufeinander warten**. Wenn ihr schon schnell da seid, setzt bitte in Zoom den grünen Haken. **Wenn ihr Lust habt**, könnt ihr danach auch andere Dinge ausprobieren oder versuchen, die **Zusatzaufgabe** zu erledigen, bis alle am Breakpoint angekommen sind. Erst danach klappen wir den neuen Abschnitt auf und machen gemeinsam weiter.\n",
    "\n",
    "* Bei der Programmiersprache **python** gibt es ein paar wichtige Regeln:\n",
    "  1. Der Code wird immer **von oben nach unten** und **Zeile für Zeile** gelesen und ausgeführt.\n",
    "\n",
    "  2. Manchmal ist Einrücken (Leerzeichen am Anfang einer Zeile) ganz wichtig. Hier interpretiert das Programm eine Zeile anders, abhängig von der **Anzahl der Leerzeichen**.\n",
    "\n",
    "\n",
    "\n",
    "Außerdem gibt es noch:\n",
    "\n",
    "* **Aufgaben**\n",
    "\n",
    "* >Tipps\n",
    "\n",
    "* Breakpoints\n",
    "\n",
    "---"
   ]
  },
  {
   "cell_type": "markdown",
   "metadata": {},
   "source": [
    "# 1\\. Abschnitt"
   ]
  },
  {
   "cell_type": "markdown",
   "metadata": {},
   "source": [
    "## Zahlen und \"Strings\""
   ]
  },
  {
   "cell_type": "markdown",
   "metadata": {},
   "source": [
    "Wir können unseren Code einfach als Taschenrechner verwenden. Versuche, mithilfe der Zeichen + (plus), - (minus), * (mal) oder / (geteilt) zu rechnen.\n",
    "\n",
    "Das sieht dann z.B. so aus:"
   ]
  },
  {
   "cell_type": "code",
   "execution_count": null,
   "metadata": {
    "pycharm": {
     "name": "#%%\n"
    }
   },
   "outputs": [],
   "source": [
    "2+4"
   ]
  },
  {
   "cell_type": "markdown",
   "metadata": {},
   "source": [
    "Jetzt darfst du das mal selbst probieren. Du kannst auch mit Potenzen rechnen (2 hoch 4 wird 2**4 geschrieben)."
   ]
  },
  {
   "cell_type": "code",
   "execution_count": null,
   "metadata": {
    "pycharm": {
     "name": "#%%\n"
    }
   },
   "outputs": [],
   "source": []
  },
  {
   "cell_type": "markdown",
   "metadata": {},
   "source": [
    "Strings sind Zeichenketten z.B. Buchstaben, Wörter oder ganze Sätze. Sie werden in Python durch ' ' oder \" \" markiert.\n",
    "Ein string sieht dann z.B. so aus: `\"Wort\".`\n",
    "\n",
    "**Aufgabe 1.1:**\\\n",
    "Was passiert, wenn man zwei Strings addiert? Oder wenn man einen String mit einer Zahl multipliziert?"
   ]
  },
  {
   "cell_type": "code",
   "execution_count": null,
   "metadata": {
    "pycharm": {
     "name": "#%%\n"
    }
   },
   "outputs": [],
   "source": []
  },
  {
   "cell_type": "markdown",
   "metadata": {},
   "source": [
    "**Aufgabe 1.2:**\\\n",
    "Versuche nun, eine Zahl und einen String zu addieren."
   ]
  },
  {
   "cell_type": "code",
   "execution_count": null,
   "metadata": {
    "pycharm": {
     "name": "#%%\n"
    }
   },
   "outputs": [],
   "source": []
  },
  {
   "cell_type": "markdown",
   "metadata": {},
   "source": [
    "Sehr gut, jetzt hast du deine erste Fehlermeldung bekommen!\\\n",
    "Immer wenn du etwas programmierst, das die Sprache nicht kennt, erscheint eine Fehlermeldung. \\\n",
    "Diese sagt dir, was für ein Fehler gemacht wurde. In diesem Fall ist es ein \"TypeError\". \\\n",
    "Wenn du solch eine Fehlermeldung bekommst und nicht weißt woran es liegt, dann sag uns am besten immer gleich Bescheid."
   ]
  },
  {
   "cell_type": "code",
   "execution_count": null,
   "metadata": {
    "pycharm": {
     "name": "#%%\n"
    }
   },
   "outputs": [],
   "source": [
    "# Hinter einem #-Zeichen kann man auch in Code-Zeilen Kommentare schreiben, die vom Programm beim Ausführen ignoriert werden."
   ]
  },
  {
   "cell_type": "markdown",
   "metadata": {},
   "source": [
    "Kommentare sind unglaublich wichtig beim Programmieren. \\\n",
    "Gerade wenn man lange Programme schreibt, braucht man sie, damit andere (und später auch man selbst) verstehen, was an welcher Stelle des Programms gemacht wird.\n",
    "\n"
   ]
  },
  {
   "cell_type": "markdown",
   "metadata": {},
   "source": [
    "<div class=\"alert alert-block alert-success\"><b>Ab hier seid ihr dran</b> ( bis zur nächsten roten Box) </div>"
   ]
  },
  {
   "cell_type": "markdown",
   "metadata": {},
   "source": [
    "Insgesamt wirst du hier vor allem drei Datentypen brauchen. Zwei hast du schon kennengelernt: Ganze Zahlen und Strings. \\\n",
    "Außerdem wirst du später Kommazahlen benutzen müssen. Dabei ist ganz wichtig, dass das, was bei uns normalerweise als Komma geschrieben wird, **hier als Punkt gesetzt wird**.\n",
    "\n",
    "**Aufgabe 1.3**: \\\n",
    "Führe die nächsten beiden Zellen aus und gucke dir den Unterschied an. Die zweite Zelle zeigt die richtige Schreibweise für Kommazahlen."
   ]
  },
  {
   "cell_type": "code",
   "execution_count": null,
   "metadata": {
    "pycharm": {
     "name": "#%%\n"
    }
   },
   "outputs": [],
   "source": [
    "3,2 #hier kommt etwas komisches raus"
   ]
  },
  {
   "cell_type": "code",
   "execution_count": null,
   "metadata": {
    "pycharm": {
     "name": "#%%\n"
    }
   },
   "outputs": [],
   "source": [
    "3.2 # das ist es was wir wollen!"
   ]
  },
  {
   "cell_type": "markdown",
   "metadata": {},
   "source": [
    "## Variablen"
   ]
  },
  {
   "cell_type": "markdown",
   "metadata": {},
   "source": [
    "Jetzt hast du schon drei wichtige Typen in Python kennengelernt: Zahlen (ganze Zahlen und Kommazahlen) und Strings. \\\n",
    "Als nächstes brauchen wir etwas, wo wir solche Dinge speichern können. Solche Objekte werden Variablen genannt. \\\n",
    "Führe einmal die nächste Zelle aus.\n",
    "\n",
    "\n"
   ]
  },
  {
   "cell_type": "code",
   "execution_count": null,
   "metadata": {
    "pycharm": {
     "name": "#%%\n"
    }
   },
   "outputs": [],
   "source": [
    "x = 3"
   ]
  },
  {
   "cell_type": "markdown",
   "metadata": {},
   "source": [
    "Du siehst, dass es keinen Output gibt. Trotzdem ist etwas passiert: Die Variable x hat den Wert 3 erhalten. So kannst du dir angucken, was in der Variable x enthalten ist:"
   ]
  },
  {
   "cell_type": "code",
   "execution_count": null,
   "metadata": {
    "pycharm": {
     "name": "#%%\n"
    }
   },
   "outputs": [],
   "source": [
    "x"
   ]
  },
  {
   "cell_type": "markdown",
   "metadata": {},
   "source": [
    "Man kann auch mehrere Variablen definieren und dann mit ihnen rechnen.\n",
    "In der nächsten Zelle haben wir das mal versucht, aber irgendwas ist durcheinander gekommen.\n",
    "\n",
    "**Aufgabe 1.4:** \\\n",
    "Weißt du, was nicht stimmt? Führe ruhig erst die Zelle aus und schau dir die Fehlermeldung an, dann versuche sie so zu ändern, dass es klappt."
   ]
  },
  {
   "cell_type": "code",
   "execution_count": null,
   "metadata": {
    "pycharm": {
     "name": "#%%\n"
    }
   },
   "outputs": [],
   "source": [
    "var1 = 2\n",
    "var2 = 4\n",
    "var1 + var2"
   ]
  },
  {
   "cell_type": "markdown",
   "metadata": {},
   "source": [
    "**Aufgabe 1.5:** \\\n",
    "Versuche nun selbst ein paar kompliziertere Rechenoperationen, in denen du Variablen verwendest.\\\n",
    ">Tipp: In Variablen können auch Strings gespeichert werden."
   ]
  },
  {
   "cell_type": "code",
   "execution_count": null,
   "metadata": {
    "pycharm": {
     "name": "#%%\n"
    }
   },
   "outputs": [],
   "source": [
    "hallo_welt = \"Hallo Welt!\""
   ]
  },
  {
   "cell_type": "markdown",
   "metadata": {},
   "source": [
    "## Funktionen nutzen"
   ]
  },
  {
   "cell_type": "markdown",
   "metadata": {},
   "source": [
    "Um mit unserem ersten kleinen Physikprojekt zu starten, brauchen wir noch ein weiteres Konzept: Funktionen. \\\n",
    "Eine Beispiel ist die _print_-Funktion:"
   ]
  },
  {
   "cell_type": "code",
   "execution_count": null,
   "metadata": {
    "pycharm": {
     "name": "#%%\n"
    }
   },
   "outputs": [],
   "source": [
    "x = 3\n",
    "print(x)"
   ]
  },
  {
   "cell_type": "markdown",
   "metadata": {},
   "source": [
    "Die _print_-Funktion nimmt das Input-Element x und \"druckt\" es auf den Bildschirm. \\\n",
    "Funktionen haben immer die Struktur `funktionsname(input1,input2,input3...)`. \\\n",
    "Jede Funktion hat dabei eine bestimmte Menge von Input-Elementen und macht dann etwas ganz bestimmtes damit.\n",
    "Ein weiteres Beispiel für eine Funktion ist die _len_-Funktion, wobei len kurz für length (engl. Länge) steht. Diese gibt dir zurück, wie viele Buchstaben ein String enthält."
   ]
  },
  {
   "cell_type": "markdown",
   "metadata": {},
   "source": [
    "**Aufgabe 1.6:** Versuche mal `len(input1)` auf einen String anzuwenden."
   ]
  },
  {
   "cell_type": "code",
   "execution_count": null,
   "metadata": {
    "pycharm": {
     "name": "#%%\n"
    }
   },
   "outputs": [],
   "source": []
  },
  {
   "cell_type": "markdown",
   "metadata": {},
   "source": [
    "## Module"
   ]
  },
  {
   "cell_type": "markdown",
   "metadata": {},
   "source": [
    "Weil es sonst sehr lange dauern würde, solch ein Notebook zu laden, kennt python beim starten noch nicht alle Funktionen, die dafür schon geschrieben wurden. Man muss einzelne Funktionspakete, sogenannte **Module**, importieren.\n",
    "\n",
    "Ein sehr wichtiges Modul ist zum Beispiel _numpy_, das ganz viele mathematische Funktionen wie den Kosinus und den Sinus enthält und sehr effektiv bei Rechnungen ist.\n",
    "\n",
    "Mit der nächsten Zelle importierst du das Modul numpy und nennst es \"np\":"
   ]
  },
  {
   "cell_type": "code",
   "execution_count": null,
   "metadata": {
    "pycharm": {
     "name": "#%%\n"
    }
   },
   "outputs": [],
   "source": [
    "import numpy as np    # hiermit importierst du numpy  als np\n",
    "print(\"Numpy imported\")"
   ]
  },
  {
   "cell_type": "markdown",
   "metadata": {},
   "source": [
    "Wenn du jetzt eine Funktion aus dem np-Modul nutzen möchtest, musst du Python stehts sagen, dass sie aus diesem Modul kommt. \\\n",
    "Den Kosinus (engl. cosine, daher abgekürzt mit _cos_) würde man zum Beispiel so aufrufen:"
   ]
  },
  {
   "cell_type": "code",
   "execution_count": null,
   "metadata": {
    "pycharm": {
     "name": "#%%\n"
    }
   },
   "outputs": [],
   "source": [
    "np.cos(np.pi)  # np.pi ruft einfach die Zahl pi auf, die ebenfalls im numpy-Modul gespeichert ist. Pi entspricht 180° eines Kreises."
   ]
  },
  {
   "cell_type": "markdown",
   "metadata": {},
   "source": [
    "also erst den **Modulnamen**, dann einen **Punkt** und dann den **Namen der Funktion**."
   ]
  },
  {
   "cell_type": "markdown",
   "metadata": {},
   "source": [
    "## Zusatzaufgabe\n",
    "(Wenn du hier angekommen bist, denke daran, uns Bescheid zu sagen.)"
   ]
  },
  {
   "cell_type": "markdown",
   "metadata": {},
   "source": [
    "**Aufgabe 1.7 (Zusatz):** Berechne den Kosinus von 0, $\\pi$ und 2$\\pi$. Speichere die Ergebnisse in den Variablen C1, C2 und C3.\n",
    "Berechne danach den Sinus von 0, $\\pi$ und 2$\\pi$. Speichere die Ergebnisse in den Variablen S1, S2 und S3.\n",
    "Lasse dir alle Variablen untereinander ausgeben."
   ]
  },
  {
   "cell_type": "markdown",
   "metadata": {},
   "source": [
    "\n",
    "\n",
    "> Tipp: Verwende die numpy Funktionen `np.cos()` und `np.sin()`. $\\pi$ kannst du mit der numpy Funktion `np.pi` bekommen.\n",
    "\n"
   ]
  },
  {
   "cell_type": "code",
   "execution_count": null,
   "metadata": {
    "pycharm": {
     "name": "#%%\n"
    }
   },
   "outputs": [],
   "source": []
  },
  {
   "cell_type": "markdown",
   "metadata": {},
   "source": [
    "**Aufgabe 1.8 (Zusatz):** Denke dir drei Strings mit einer Länge von 4, 5 und 6 aus (nenne sie zum Beispiel string1, string2, string3). Kombiniere die Strings, um neue Strings der Länge 14, 16 und 25 zu erhalten. Überprüfe die Länge deiner Strings mit der length-Funktion (`len(input1)`)."
   ]
  },
  {
   "cell_type": "code",
   "execution_count": null,
   "metadata": {
    "pycharm": {
     "name": "#%%\n"
    }
   },
   "outputs": [],
   "source": []
  },
  {
   "cell_type": "markdown",
   "metadata": {},
   "source": [
    "<div class=\"alert alert-block alert-danger\"><b>Breakpoint</b>: Hier bitte auf die anderen warten</div>"
   ]
  },
  {
   "cell_type": "markdown",
   "metadata": {
    "pycharm": {
     "name": "#%% md\n"
    }
   },
   "source": [
    "---\n",
    "\n",
    "# 2. Abschnitt\n",
    "\n",
    "## Die Schildkröte"
   ]
  },
  {
   "cell_type": "markdown",
   "metadata": {
    "pycharm": {
     "name": "#%% md\n"
    }
   },
   "source": [
    "Wir wollen nun mit einem Modul arbeiten, das \"Turtle\" heißt.\n",
    "Dafür muss es aber erst importiert werden:"
   ]
  },
  {
   "cell_type": "code",
   "execution_count": 1,
   "metadata": {
    "pycharm": {
     "name": "#%%\n"
    }
   },
   "outputs": [
    {
     "name": "stdout",
     "output_type": "stream",
     "text": [
      "turtle importiert!\n"
     ]
    }
   ],
   "source": [
    "# importiere hier das Modul \"turtle\".\n",
    "import turtle\n",
    "print(\"turtle importiert!\")"
   ]
  },
  {
   "cell_type": "markdown",
   "metadata": {
    "pycharm": {
     "name": "#%% md\n"
    }
   },
   "source": [
    "Nun da wir das Modul mit den Schildkröten importiert haben, wollen wir es auch Nutzen. Um also eine Schildkröte zu erstellen,\n",
    "weisen wir einer Variablen eine Schilkröte hinzu, die mit dem Modul turtle und der Funktion Turtle() daraus erzeugt wird:\n",
    "`my_turtle = turtle.Turtle()`"
   ]
  },
  {
   "cell_type": "code",
   "execution_count": 2,
   "metadata": {
    "pycharm": {
     "name": "#%%\n"
    }
   },
   "outputs": [],
   "source": [
    "my_turtle = turtle.Turtle()"
   ]
  },
  {
   "cell_type": "markdown",
   "metadata": {
    "pycharm": {
     "name": "#%% md\n"
    }
   },
   "source": [
    ">Tipp: my_turtle ist hier ein Platzhalter. Du kannst dir für diese Variable einen eigenen Name ausdenken, musst ihn allerdings immer benutzen."
   ]
  },
  {
   "cell_type": "markdown",
   "metadata": {},
   "source": [
    "Um nun die Schildlröte etwas malen zu lassen, rufst du nun die Variable auf, gefolgt von dem, was sie machen soll:"
   ]
  },
  {
   "cell_type": "code",
   "execution_count": 3,
   "metadata": {
    "pycharm": {
     "name": "#%%\n"
    }
   },
   "outputs": [],
   "source": [
    "# Beispiel:\n",
    "my_turtle.forward(10)  # Bewegt die Schildkröte 10 Pixel nach vorne"
   ]
  }
 ],
 "metadata": {
  "kernelspec": {
   "display_name": "Python 3",
   "language": "python",
   "name": "python3"
  },
  "language_info": {
   "codemirror_mode": {
    "name": "ipython",
    "version": 3
   },
   "file_extension": ".py",
   "mimetype": "text/x-python",
   "name": "python",
   "nbconvert_exporter": "python",
   "pygments_lexer": "ipython3",
   "version": "3.9.1"
  }
 },
 "nbformat": 4,
 "nbformat_minor": 1
}
