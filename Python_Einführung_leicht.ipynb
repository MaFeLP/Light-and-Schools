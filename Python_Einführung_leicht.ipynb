{
 "cells": [
  {
   "cell_type": "markdown",
   "metadata": {},
   "source": [
    "* Die Plattform, auf der wir uns befinden, heißt **JupyterLab**. Hier gibt es ein paar Dinge zu beachten.\n",
    "  1. Den Code führt ihr hier aus, indem ihr auf den kleinen Pfeil bzw. das Dreieck oben im Fenster drückt.\n",
    "\n",
    "  2. Es wird oft leere Codezellen geben, in denen ihr dann selbst etwas hineinschreiben sollt.\n",
    "\n",
    "  3. Eine **horizontale Linie** ist immer ein **Breakpoint**, bei dem wir **aufeinander warten**. Wenn ihr schon schnell da seid, setzt bitte in Zoom den grünen Haken. **Wenn ihr Lust habt**, könnt ihr danach auch andere Dinge ausprobieren oder versuchen, die **Zusatzaufgabe** zu erledigen, bis alle am Breakpoint angekommen sind. Erst danach klappen wir den neuen Abschnitt auf und machen gemeinsam weiter.\n",
    "\n",
    "* Bei der Programmiersprache **python** gibt es ein paar wichtige Regeln:\n",
    "  1. Der Code wird immer **von oben nach unten** und **Zeile für Zeile** gelesen und ausgeführt.\n",
    "\n",
    "  2. Manchmal ist Einrücken (Leerzeichen am Anfang einer Zeile) ganz wichtig. Hier interpretiert das Programm eine Zeile anders, abhängig von der **Anzahl der Leerzeichen**.\n",
    "\n",
    "\n",
    "\n",
    "Außerdem gibt es noch:\n",
    "\n",
    "* **Aufgaben**\n",
    "\n",
    "* >Tipps\n",
    "\n",
    "* Breakpoints\n",
    "\n",
    "---"
   ]
  },
  {
   "cell_type": "markdown",
   "metadata": {},
   "source": [
    "# 1\\. Abschnitt"
   ]
  },
  {
   "cell_type": "markdown",
   "metadata": {},
   "source": [
    "## Zahlen und \"Strings\""
   ]
  },
  {
   "cell_type": "markdown",
   "metadata": {},
   "source": [
    "Wir können unseren Code einfach als Taschenrechner verwenden. Versuche, mithilfe der Zeichen + (plus), - (minus), * (mal) oder / (geteilt) zu rechnen.\n",
    "\n",
    "Das sieht dann z.B. so aus:"
   ]
  },
  {
   "cell_type": "code",
   "execution_count": null,
   "metadata": {
    "pycharm": {
     "name": "#%%\n"
    }
   },
   "outputs": [],
   "source": [
    "2+4"
   ]
  },
  {
   "cell_type": "markdown",
   "metadata": {},
   "source": [
    "Jetzt darfst du das mal selbst probieren. Du kannst auch mit Potenzen rechnen (2 hoch 4 wird 2**4 geschrieben)."
   ]
  },
  {
   "cell_type": "code",
   "execution_count": null,
   "metadata": {
    "pycharm": {
     "name": "#%%\n"
    }
   },
   "outputs": [],
   "source": []
  },
  {
   "cell_type": "markdown",
   "metadata": {},
   "source": [
    "Strings sind Zeichenketten z.B. Buchstaben, Wörter oder ganze Sätze. Sie werden in Python durch ' ' oder \" \" markiert.\n",
    "Ein string sieht dann z.B. so aus: `\"Wort\".`\n",
    "\n",
    "**Aufgabe 1.1:**\\\n",
    "Was passiert, wenn man zwei Strings addiert? Oder wenn man einen String mit einer Zahl multipliziert?"
   ]
  },
  {
   "cell_type": "code",
   "execution_count": null,
   "metadata": {
    "pycharm": {
     "name": "#%%\n"
    }
   },
   "outputs": [],
   "source": []
  },
  {
   "cell_type": "markdown",
   "metadata": {},
   "source": [
    "**Aufgabe 1.2:**\\\n",
    "Versuche nun, eine Zahl und einen String zu addieren."
   ]
  },
  {
   "cell_type": "code",
   "execution_count": null,
   "metadata": {
    "pycharm": {
     "name": "#%%\n"
    }
   },
   "outputs": [],
   "source": []
  },
  {
   "cell_type": "markdown",
   "metadata": {},
   "source": [
    "Sehr gut, jetzt hast du deine erste Fehlermeldung bekommen!\\\n",
    "Immer wenn du etwas programmierst, das die Sprache nicht kennt, erscheint eine Fehlermeldung. \\\n",
    "Diese sagt dir, was für ein Fehler gemacht wurde. In diesem Fall ist es ein \"TypeError\". \\\n",
    "Wenn du solch eine Fehlermeldung bekommst und nicht weißt woran es liegt, dann sag uns am besten immer gleich Bescheid."
   ]
  },
  {
   "cell_type": "code",
   "execution_count": null,
   "metadata": {
    "pycharm": {
     "name": "#%%\n"
    }
   },
   "outputs": [],
   "source": [
    "# Hinter einem #-Zeichen kann man auch in Code-Zeilen Kommentare schreiben, die vom Programm beim Ausführen ignoriert werden."
   ]
  },
  {
   "cell_type": "markdown",
   "metadata": {},
   "source": [
    "Kommentare sind unglaublich wichtig beim Programmieren. \\\n",
    "Gerade wenn man lange Programme schreibt, braucht man sie, damit andere (und später auch man selbst) verstehen, was an welcher Stelle des Programms gemacht wird.\n",
    "\n"
   ]
  },
  {
   "cell_type": "markdown",
   "metadata": {},
   "source": [
    "<div class=\"alert alert-block alert-success\"><b>Ab hier seid ihr dran</b> ( bis zur nächsten roten Box) </div>"
   ]
  },
  {
   "cell_type": "markdown",
   "metadata": {},
   "source": [
    "Insgesamt wirst du hier vor allem drei Datentypen brauchen. Zwei hast du schon kennengelernt: Ganze Zahlen und Strings. \\\n",
    "Außerdem wirst du später Kommazahlen benutzen müssen. Dabei ist ganz wichtig, dass das, was bei uns normalerweise als Komma geschrieben wird, **hier als Punkt gesetzt wird**.\n",
    "\n",
    "**Aufgabe 1.3**: \\\n",
    "Führe die nächsten beiden Zellen aus und gucke dir den Unterschied an. Die zweite Zelle zeigt die richtige Schreibweise für Kommazahlen."
   ]
  },
  {
   "cell_type": "code",
   "execution_count": null,
   "metadata": {
    "pycharm": {
     "name": "#%%\n"
    }
   },
   "outputs": [],
   "source": [
    "3,2 #hier kommt etwas komisches raus"
   ]
  },
  {
   "cell_type": "code",
   "execution_count": null,
   "metadata": {
    "pycharm": {
     "name": "#%%\n"
    }
   },
   "outputs": [],
   "source": [
    "3.2 # das ist es was wir wollen!"
   ]
  },
  {
   "cell_type": "markdown",
   "metadata": {},
   "source": [
    "## Variablen"
   ]
  },
  {
   "cell_type": "markdown",
   "metadata": {},
   "source": [
    "Jetzt hast du schon drei wichtige Typen in Python kennengelernt: Zahlen (ganze Zahlen und Kommazahlen) und Strings. \\\n",
    "Als nächstes brauchen wir etwas, wo wir solche Dinge speichern können. Solche Objekte werden Variablen genannt. \\\n",
    "Führe einmal die nächste Zelle aus.\n",
    "\n",
    "\n"
   ]
  },
  {
   "cell_type": "code",
   "execution_count": null,
   "metadata": {
    "pycharm": {
     "name": "#%%\n"
    }
   },
   "outputs": [],
   "source": [
    "x = 3"
   ]
  },
  {
   "cell_type": "markdown",
   "metadata": {},
   "source": [
    "Du siehst, dass es keinen Output gibt. Trotzdem ist etwas passiert: Die Variable x hat den Wert 3 erhalten. So kannst du dir angucken, was in der Variable x enthalten ist:"
   ]
  },
  {
   "cell_type": "code",
   "execution_count": null,
   "metadata": {
    "pycharm": {
     "name": "#%%\n"
    }
   },
   "outputs": [],
   "source": [
    "x"
   ]
  },
  {
   "cell_type": "markdown",
   "metadata": {},
   "source": [
    "Man kann auch mehrere Variablen definieren und dann mit ihnen rechnen.\n",
    "In der nächsten Zelle haben wir das mal versucht, aber irgendwas ist durcheinander gekommen.\n",
    "\n",
    "**Aufgabe 1.4:** \\\n",
    "Weißt du, was nicht stimmt? Führe ruhig erst die Zelle aus und schau dir die Fehlermeldung an, dann versuche sie so zu ändern, dass es klappt."
   ]
  },
  {
   "cell_type": "code",
   "execution_count": null,
   "metadata": {
    "pycharm": {
     "name": "#%%\n"
    }
   },
   "outputs": [],
   "source": [
    "var1 = 2\n",
    "var2 = 4\n",
    "var1 + var2"
   ]
  },
  {
   "cell_type": "markdown",
   "metadata": {},
   "source": [
    "**Aufgabe 1.5:** \\\n",
    "Versuche nun selbst ein paar kompliziertere Rechenoperationen, in denen du Variablen verwendest.\\\n",
    ">Tipp: In Variablen können auch Strings gespeichert werden."
   ]
  },
  {
   "cell_type": "code",
   "execution_count": null,
   "metadata": {
    "pycharm": {
     "name": "#%%\n"
    }
   },
   "outputs": [],
   "source": [
    "hallo_welt = \"Hallo Welt!\""
   ]
  },
  {
   "cell_type": "markdown",
   "metadata": {},
   "source": [
    "## Funktionen nutzen"
   ]
  },
  {
   "cell_type": "markdown",
   "metadata": {},
   "source": [
    "Um mit unserem ersten kleinen Physikprojekt zu starten, brauchen wir noch ein weiteres Konzept: Funktionen. \\\n",
    "Eine Beispiel ist die _print_-Funktion:"
   ]
  },
  {
   "cell_type": "code",
   "execution_count": null,
   "metadata": {
    "pycharm": {
     "name": "#%%\n"
    }
   },
   "outputs": [],
   "source": [
    "x = 3\n",
    "print(x)"
   ]
  },
  {
   "cell_type": "markdown",
   "metadata": {},
   "source": [
    "Die _print_-Funktion nimmt das Input-Element x und \"druckt\" es auf den Bildschirm. \\\n",
    "Funktionen haben immer die Struktur `funktionsname(input1,input2,input3...)`. \\\n",
    "Jede Funktion hat dabei eine bestimmte Menge von Input-Elementen und macht dann etwas ganz bestimmtes damit.\n",
    "Ein weiteres Beispiel für eine Funktion ist die _len_-Funktion, wobei len kurz für length (engl. Länge) steht. Diese gibt dir zurück, wie viele Buchstaben ein String enthält."
   ]
  },
  {
   "cell_type": "markdown",
   "metadata": {},
   "source": [
    "**Aufgabe 1.6:** Versuche mal `len(input1)` auf einen String anzuwenden."
   ]
  },
  {
   "cell_type": "code",
   "execution_count": null,
   "metadata": {
    "pycharm": {
     "name": "#%%\n"
    }
   },
   "outputs": [],
   "source": []
  },
  {
   "cell_type": "markdown",
   "metadata": {},
   "source": [
    "## Module"
   ]
  },
  {
   "cell_type": "markdown",
   "metadata": {},
   "source": [
    "Weil es sonst sehr lange dauern würde, solch ein Notebook zu laden, kennt python beim starten noch nicht alle Funktionen, die dafür schon geschrieben wurden. Man muss einzelne Funktionspakete, sogenannte **Module**, importieren.\n",
    "\n",
    "Ein sehr wichtiges Modul ist zum Beispiel _numpy_, das ganz viele mathematische Funktionen wie den Kosinus und den Sinus enthält und sehr effektiv bei Rechnungen ist.\n",
    "\n",
    "Mit der nächsten Zelle importierst du das Modul numpy und nennst es \"np\":"
   ]
  },
  {
   "cell_type": "code",
   "execution_count": null,
   "metadata": {
    "pycharm": {
     "name": "#%%\n"
    }
   },
   "outputs": [],
   "source": [
    "import numpy as np    # hiermit importierst du numpy  als np\n",
    "print(\"Numpy imported\")"
   ]
  },
  {
   "cell_type": "markdown",
   "metadata": {},
   "source": [
    "Wenn du jetzt eine Funktion aus dem np-Modul nutzen möchtest, musst du Python stehts sagen, dass sie aus diesem Modul kommt. \\\n",
    "Den Kosinus (engl. cosine, daher abgekürzt mit _cos_) würde man zum Beispiel so aufrufen:"
   ]
  },
  {
   "cell_type": "code",
   "execution_count": null,
   "metadata": {
    "pycharm": {
     "name": "#%%\n"
    }
   },
   "outputs": [],
   "source": [
    "np.cos(np.pi)  # np.pi ruft einfach die Zahl pi auf, die ebenfalls im numpy-Modul gespeichert ist. Pi entspricht 180° eines Kreises."
   ]
  },
  {
   "cell_type": "markdown",
   "metadata": {},
   "source": [
    "also erst den **Modulnamen**, dann einen **Punkt** und dann den **Namen der Funktion**."
   ]
  },
  {
   "cell_type": "markdown",
   "metadata": {},
   "source": [
    "## Zusatzaufgabe\n",
    "(Wenn du hier angekommen bist, denke daran, uns Bescheid zu sagen.)"
   ]
  },
  {
   "cell_type": "markdown",
   "metadata": {},
   "source": [
    "**Aufgabe 1.7 (Zusatz):** Berechne den Kosinus von 0, $\\pi$ und 2$\\pi$. Speichere die Ergebnisse in den Variablen C1, C2 und C3.\n",
    "Berechne danach den Sinus von 0, $\\pi$ und 2$\\pi$. Speichere die Ergebnisse in den Variablen S1, S2 und S3.\n",
    "Lasse dir alle Variablen untereinander ausgeben."
   ]
  },
  {
   "cell_type": "markdown",
   "metadata": {},
   "source": [
    "\n",
    "\n",
    "> Tipp: Verwende die numpy Funktionen `np.cos()` und `np.sin()`. $\\pi$ kannst du mit der numpy Funktion `np.pi` bekommen.\n",
    "\n"
   ]
  },
  {
   "cell_type": "code",
   "execution_count": null,
   "metadata": {
    "pycharm": {
     "name": "#%%\n"
    }
   },
   "outputs": [],
   "source": []
  },
  {
   "cell_type": "markdown",
   "metadata": {},
   "source": [
    "**Aufgabe 1.8 (Zusatz):** Denke dir drei Strings mit einer Länge von 4, 5 und 6 aus (nenne sie zum Beispiel string1, string2, string3). Kombiniere die Strings, um neue Strings der Länge 14, 16 und 25 zu erhalten. Überprüfe die Länge deiner Strings mit der length-Funktion (`len(input1)`)."
   ]
  },
  {
   "cell_type": "code",
   "execution_count": null,
   "metadata": {
    "pycharm": {
     "name": "#%%\n"
    }
   },
   "outputs": [],
   "source": []
  },
  {
   "cell_type": "markdown",
   "metadata": {},
   "source": [
    "<div class=\"alert alert-block alert-danger\"><b>Breakpoint</b>: Hier bitte auf die anderen warten</div>"
   ]
  },
  {
   "cell_type": "markdown",
   "metadata": {
    "pycharm": {
     "name": "#%% md\n"
    }
   },
   "source": [
    "---\n",
    "\n",
    "# 2. Abschnitt\n",
    "\n",
    "## Python Dateien"
   ]
  },
  {
   "cell_type": "markdown",
   "metadata": {
    "pycharm": {
     "name": "#%% md\n"
    }
   },
   "source": [
    "<div class=\"alert alert-info\">Hier spalten sich die Wege.<br>\n",
    "Wenn du hier den Offline-Modus gewählt hast, kannst du den normalen Weg benutzen.<br>\n",
    "Dennoch kann der Abschnitt \"Python Dateien\" für dich interessant sein!<br><br>\n",
    "Wenn du allerdings den Online-Modus gewählt hast, musst du auf den Code, der von der Schildkröte ausgeführt wird, auf der Webseite <a href=\"https://trinket.io/turtle\">https://trinket.io/turtle</a> eingegeben werden.<br>\n",
    "Auf dieser Webseite kannst du dir oben in der Leiste das Programm, wie eine Zelle ausführen, jedoch muss immer der ganze Code in dieser Datei sein.</div>\n"
   ]
  },
  {
   "cell_type": "markdown",
   "source": [],
   "metadata": {
    "collapsed": false,
    "pycharm": {
     "name": "#%% md\n"
    }
   }
  },
  {
   "cell_type": "markdown",
   "metadata": {
    "pycharm": {
     "name": "#%% md\n"
    }
   },
   "source": [
    "## Die Schildkröte"
   ]
  },
  {
   "cell_type": "markdown",
   "metadata": {
    "pycharm": {
     "name": "#%% md\n"
    }
   },
   "source": [
    "Wir wollen nun mit einem Modul arbeiten, das \"Turtle\" heißt.\n",
    "Dafür muss es aber erst importiert werden:"
   ]
  },
  {
   "cell_type": "code",
   "execution_count": 1,
   "metadata": {
    "pycharm": {
     "name": "#%%\n"
    }
   },
   "outputs": [
    {
     "name": "stdout",
     "output_type": "stream",
     "text": [
      "turtle importiert!\n"
     ]
    }
   ],
   "source": [
    "# importiere hier das Modul \"turtle\".\n",
    "import ipyturtle as turtle\n",
    "print(\"turtle importiert!\")"
   ]
  },
  {
   "cell_type": "markdown",
   "metadata": {
    "pycharm": {
     "name": "#%% md\n"
    }
   },
   "source": [
    "<div class=\"alert alert-block alert-warning\"><b><u>Insider-Wissen (kann übersprungen werden):</u></b><br>\n",
    "Wenn ihr normal in Python programmiert benutzt ihr das Modul \"turtle\" und nicht \"ipyturtle\".<br>\n",
    "Wir benutzen hier \"ipyturtle\", weil wir mit einem sogenannten Notebook arebeiten und es einfacher ist, die Bewegungen einer Turtle mit diesem Modul nachzuvollziehen.<br>\n",
    "Wenn ihr dennoch Lust habt, das Modul auszuprobieren, könnt ihr auch einfach das importierte Modul ändern und gucken, was passiert.</div>"
   ]
  },
  {
   "cell_type": "markdown",
   "metadata": {
    "pycharm": {
     "name": "#%% md\n"
    }
   },
   "source": [
    "Nun da wir das Modul mit den Schildkröten importiert haben, wollen wir es auch Nutzen. Um also eine Schildkröte zu erstellen,\n",
    "weisen wir einer Variablen eine Schilkröte hinzu, die mit dem Modul turtle und der Funktion Turtle() daraus erzeugt wird:\n",
    "`my_turtle = turtle.Turtle()`"
   ]
  },
  {
   "cell_type": "code",
   "execution_count": 2,
   "metadata": {
    "pycharm": {
     "name": "#%%\n"
    }
   },
   "outputs": [
    {
     "data": {
      "application/vnd.jupyter.widget-view+json": {
       "model_id": "8cd3aaf5d8364c169120b8934e807acb",
       "version_major": 2,
       "version_minor": 0
      },
      "text/plain": [
       "Turtle()"
      ]
     },
     "metadata": {},
     "output_type": "display_data"
    }
   ],
   "source": [
    "my_turtle = turtle.Turtle()\n",
    "my_turtle"
   ]
  },
  {
   "cell_type": "markdown",
   "metadata": {
    "pycharm": {
     "name": "#%% md\n"
    }
   },
   "source": [
    ">Tipp: my_turtle ist hier ein Platzhalter. Du kannst dir für diese Variable einen eigenen Name ausdenken, musst ihn allerdings immer benutzen."
   ]
  },
  {
   "cell_type": "markdown",
   "metadata": {},
   "source": [
    "Um nun die Schildkröte etwas malen zu lassen, rufst du nun die Variable auf, gefolgt von dem, was sie machen soll:"
   ]
  },
  {
   "cell_type": "code",
   "execution_count": 5,
   "metadata": {
    "pycharm": {
     "name": "#%%\n"
    }
   },
   "outputs": [],
   "source": [
    "# Beispiel:\n",
    "my_turtle.forward(50)  # Bewegt die Schildkröte 10 Pixel nach vorne"
   ]
  },
  {
   "cell_type": "markdown",
   "metadata": {},
   "source": [
    "Je nach dem, wie oft du die Zelle hier drüber ausführst, bewegt sich der Pfeil auf der rechten Seite auch dementsprechend.\n",
    "Wenn du die Schildkröte zurücksetzen möchtest, führe einfach die Zelle aus, in der die Schilkröte erstellt wurde oder füge\n",
    "`my_turtle = turtle.Turtle()\n",
    "my_turtle`\n",
    "an der Stelle ein, wo die Schildkröte zurückgesetzt werden soll."
   ]
  },
  {
   "cell_type": "markdown",
   "metadata": {
    "pycharm": {
     "name": "#%% md\n"
    }
   },
   "source": [
    "Weitere Funktionen die eine Turtle ausführen kann sind:\n",
    "* my_turtle.forward(wie weit sich die schildkröte bewegen soll)\n",
    "* my_turtle.left(Grad die sich die Schildkröte drehen soll)\n",
    "* my_turtle.right(Grad die sich die Schildkröte drehen soll)\n",
    "* my_turtle.pencolor(Farbname als String)\n",
    "* my_turtle.pendown()\n",
    "* my_turtle.penup()\n",
    "* my_turtle.reset()"
   ]
  },
  {
   "cell_type": "markdown",
   "metadata": {},
   "source": [
    "<div class=\"alert alert-block alert-warning\"><b><u>Insider-Wissen (kann übersprungen werden):</u></b><br>\n",
    "Wenn du stattdessen das \"normale\" turtle Modul benutzt gibt es noch weitere funktionen:\n",
    "<ul><li>my_turtle.shape(<a href=\"https://docs.python.org/3/library/turtle.html#turtle.shape\">shape</a>)</li>\n",
    "    <li>my_turtle.speed(<a href=\"https://docs.python.org/3/library/turtle.html#turtle.speed\">speed</a>)</li>\n",
    "    <li>my_turtle.goto(<a href=\"https://docs.python.org/3/library/turtle.html#turtle.goto\">x, y</a>)</li>\n",
    "    <li>und viele mehr.<br>\n",
    "    Für mehr Infos, siehe <a href=\"https://docs.python.org/3/library/turtle.html\">offizielle Dokumentation</a>.</li>\n",
    "</ul>\n",
    "</div>"
   ]
  },
  {
   "cell_type": "markdown",
   "metadata": {},
   "source": [
    "**Aufgabe 2.1:** Male ein Quadrat mit der Schildkröte."
   ]
  },
  {
   "cell_type": "code",
   "execution_count": 6,
   "metadata": {
    "pycharm": {
     "name": "#%%\n"
    }
   },
   "outputs": [],
   "source": [
    "# Schildkröte zurücksetzen:\n",
    "my_turtle.reset()\n",
    "\n",
    "# Ab hier bitte malen:\n"
   ]
  },
  {
   "cell_type": "markdown",
   "metadata": {},
   "source": [
    "**Aufgabe 2.2:** Male eine andere Form mit der Schildkröte.\n",
    "\n",
    "> Tipp: vergiss nicht, die Schildkröte am Anfang zurückzusetzen!"
   ]
  },
  {
   "cell_type": "code",
   "execution_count": null,
   "metadata": {
    "pycharm": {
     "name": "#%%\n"
    }
   },
   "outputs": [],
   "source": []
  },
  {
   "cell_type": "markdown",
   "metadata": {},
   "source": [
    "**Zusatzaufgabe:** Male das Haus vom Nikolaus."
   ]
  },
  {
   "cell_type": "code",
   "execution_count": null,
   "metadata": {
    "pycharm": {
     "name": "#%%\n"
    }
   },
   "outputs": [],
   "source": []
  },
  {
   "cell_type": "markdown",
   "metadata": {},
   "source": [
    "<div class=\"alert alert-block alert-danger\"><b>Breakpoint</b>: Hier bitte auf die anderen warten</div>"
   ]
  },
  {
   "cell_type": "markdown",
   "metadata": {},
   "source": [
    "---\n",
    "# 3\\. Abschnitt"
   ]
  },
  {
   "cell_type": "markdown",
   "metadata": {},
   "source": [
    "## Funktionen schreiben"
   ]
  },
  {
   "cell_type": "markdown",
   "metadata": {},
   "source": [
    "Einige Funktionen wie `print(),len() und np.cos()` habt ihr bereits kennengelernt.\\\n",
    "Für viele Dinge, die man machen möchte, gibt es aber noch gar keine fertige Funktion. Deswegen ist es sehr wichtig, dass du lernst, wie du selbst eine Funktion schreiben kannst.\\\n",
    "Fallen dir noch ein paar Gründe ein wofür so eine Funktion praktisch sein könnte?"
   ]
  },
  {
   "cell_type": "markdown",
   "metadata": {},
   "source": [
    "Der Aufbau einer Funktion muss dabei gewissen Regeln folgen. Im Folgenden seht ihr eine kleine Additionsfunktion, an der wir den Aufbau durchgehen:"
   ]
  },
  {
   "cell_type": "code",
   "execution_count": null,
   "metadata": {
    "pycharm": {
     "name": "#%%\n"
    }
   },
   "outputs": [],
   "source": [
    "def AdditionsFunktion(x, y):  # Mit dem Schlüsselwort 'def' beginnen wir die Definition. Wir legen Namen und Argumente fest. Der Doppelpunkt zum Schluss ist sehr wichtig.\n",
    "  Ergebnis = x + y  # Der zur Funktion zugehörige Code ist um zwei Leerzeichen eingerückt.\n",
    "  return Ergebnis  # Hinter dem Schlüsselwort 'return' schreiben wir die Variable, deren Wert von der Funktion zurückgegeben wird."
   ]
  },
  {
   "cell_type": "markdown",
   "metadata": {},
   "source": [
    "Probier sie mal aus!"
   ]
  },
  {
   "cell_type": "code",
   "execution_count": null,
   "metadata": {
    "pycharm": {
     "name": "#%%\n"
    }
   },
   "outputs": [],
   "source": [
    "AdditionsFunktion(1, 2)"
   ]
  },
  {
   "cell_type": "markdown",
   "metadata": {},
   "source": [
    "Um Python zu sagen, dass eine Funktion definiert wird, beginnen wir die Definition mit dem Schlüsselwort _def_:\n",
    "\n",
    "`def Funktionsname(input1, input2, input3....):`\n",
    "\n",
    "Dabei können so viele Inputargumente wie gewollt (oder benötigt) genutzt werden. Wenn die Anzahl der Inputargumente definiert wurde, müssen der Funktion beim Aufruf aber immer genauso viele Argumente übergeben werden.\\\n",
    "Die Variablen input1, Input2 etc. sind dabei nur Platzhalter, später beim Aufruf können der Funktion z.B. einfach Zahlen übergeben werden. Ihre Reihenfolge ist in unserem Beispiel hier egal, normalerweise muss man sie aber auf jeden Fall beachten.\\\n",
    "Ganz wichtig ist auch, dass alle Zeilen, die nach der Funktionsdefinition kommen und zur Funktion gehören, eingerückt sind. Das Einrücken (um eine gewisse Zahl Leerzeichen) sagt python, dass die Zeilen noch zu der Funktionsdefinition gehören. Es muss für alle Zeilen einheitlich sein.\\\n",
    "Der Ausdruck `return`, gibt an was die Funktion zurückgibt, also ihr Ergebnis.\n",
    "\n",
    " <div class=\"alert alert-block alert-success\"><b>Ab hier seid ihr dran</b> ( bis zur nächsten roten Box) </div>\n",
    "\n",
    "**Aufgabe 3.1:**\\\n",
    "Spiele ein bisschen mit der Additionsfunktion rum. Probiere aus, was passiert, wenn du das return aus der Funktion herausnimmst und sie dann startest."
   ]
  },
  {
   "cell_type": "code",
   "execution_count": null,
   "metadata": {
    "pycharm": {
     "name": "#%%\n"
    }
   },
   "outputs": [],
   "source": []
  },
  {
   "cell_type": "markdown",
   "metadata": {
    "pycharm": {
     "name": "#%% md\n"
    }
   },
   "source": [
    ">Tipp: Immer wenn du etwas in der Funktion änderst musst du auch das Codefenster in dem sie definiert ist erneut starten damit die Änderungen auch übernommen werden.\n",
    "\n",
    "\n",
    "\n",
    "**Aufgabe 3.2:**\\\n",
    "Versuche, die verschiedenen Zeilen in einer Funktion unterschiedlich stark einzurücken."
   ]
  },
  {
   "cell_type": "code",
   "execution_count": null,
   "metadata": {
    "pycharm": {
     "name": "#%%\n"
    }
   },
   "outputs": [],
   "source": []
  },
  {
   "cell_type": "markdown",
   "metadata": {},
   "source": [
    "**Aufgabe 3.3:**\\\n",
    "Probiere aus, was passiert, wenn du der _AdditionsFunktion_ zu wenige oder zu viele Inputargumente gibst."
   ]
  },
  {
   "cell_type": "code",
   "execution_count": null,
   "metadata": {
    "pycharm": {
     "name": "#%%\n"
    }
   },
   "outputs": [],
   "source": []
  },
  {
   "cell_type": "markdown",
   "metadata": {},
   "source": [
    "Wenden wir uns nun wieder der Schildkröte zu.\\\n",
    "Wenn du nicht immer, wenn du eine Form zeichnen möchtest, immer den **ganzen** Code kenn möchtest, schreibst du dir dafür eine Funktion.\\\n",
    "Füge also den Code aus Aufgabe 2.1 und 2.2 in zwei verschiedene Funktionen ein und führe diese aus:"
   ]
  },
  {
   "cell_type": "code",
   "execution_count": null,
   "metadata": {
    "pycharm": {
     "name": "#%%\n"
    }
   },
   "outputs": [],
   "source": [
    "def draw_square():\n",
    "    print(\"Zeichne Quadrat...\")\n",
    "    my_turtle.\n",
    "    print(\"Quadrat gezeichnet!\")\n",
    "    return"
   ]
  },
  {
   "cell_type": "code",
   "execution_count": null,
   "metadata": {
    "pycharm": {
     "name": "#%%\n"
    }
   },
   "outputs": [],
   "source": [
    "def draw_other_figure(tur):  # Die Funktion nimmt als Übergabe-Parameter eine Turtle entgegen und nennt sie \"tur\"\n",
    "    print(\"Zeichne andere Figur...\")\n",
    "    # Innerhalb von Funktionen solltest du lieber auf Übergabe-Werte zurückgreifen, als auf globale Variablen!\n",
    "    tur.\n",
    "    print(\"Eine andere Figur wurde gezeichnet!\")\n",
    "    return tur  # Gibt die übergebene Schildkröte zurück."
   ]
  },
  {
   "cell_type": "markdown",
   "metadata": {
    "pycharm": {
     "name": "#%% md\n"
    }
   },
   "source": [
    "<div class=\"alert alert-block alert-warning\"><b><u>Insider-Wissen (kann übersprungen werden):</u></b><br>\n",
    "Wenn man eine Schildkröte zurückgibt, ist es so, als würde ich eine Variable aufrufen. Ich kann also somit die Funktion\n",
    "aufrufen, gefolgt von einem Punkt und einer Methode, so als ob ich die <b>Variable</b> mit einem Punkt aufrufen würde.<br>\n",
    "Ein Beispiel ist:<br><br>\n",
    "<i>draw_other_figure(my_turtle).forward(10)</i><br><br>\n",
    "Dies könntest du genauso ausführen und es würde funktionieren und hätte den selben Effekt wie:<br><br>\n",
    "<i>draw_other_figure(my_turtle)\n",
    "my_turtle.forward(10)</i>\n",
    "</div>"
   ]
  },
  {
   "cell_type": "code",
   "execution_count": null,
   "metadata": {
    "pycharm": {
     "name": "#%%\n"
    }
   },
   "outputs": [],
   "source": [
    "draw_square()\n",
    "my_turtle.reset()  # Setzt die Schildkröte zurück\n",
    "draw_other_figure(my_turtle)  # Übergibt die Schildkröte an die Funktion"
   ]
  },
  {
   "cell_type": "markdown",
   "metadata": {},
   "source": [
    "Hier lernst du auch direkt kennen, dass eine Funktionion nicht immer etwas zurückgeben *muss*. Sie kann auch `Null` - also nichts - zurückgeben,\\\n",
    "was wir hier sehen könne, weil hinter dem `return` nichts steht.\n",
    "\n",
    "**Aufgabe 3.4:**\\\n",
    "Passe die Funktion `draw_square` so an, dass auch sie eine Turtle entgegen nehmen soll und die selbe auch zurück gibt.\n"
   ]
  },
  {
   "cell_type": "markdown",
   "metadata": {},
   "source": [
    "## if-Bedingungen"
   ]
  },
  {
   "cell_type": "markdown",
   "metadata": {},
   "source": [
    "Sehr oft soll ein Programm nur etwas machen, wenn gewisse Bedingungen erfüllt sind. Fallen dir Beispiele ein, wo man so etwas brauchen könnte?\\\n",
    "Um solche Bedingungen abzufragen, gibt es das Schlüsselwort _if_.\n",
    "\n",
    "Um dieses zu verstehen, müssen wir erst noch ein paar Zeichen klären, die ihr sicherlich aus dem Matheunterricht kennt, aber man muss sie ja auch am Computer richtig schreiben.\n",
    "\n",
    "Die wichtigsten Zeichen sind:\n",
    "\n",
    "`<` kleiner als\n",
    "\n",
    "`>` größer als\n",
    "\n",
    "`<=` kleiner gleich\n",
    "\n",
    "`>=` größer gleich\n",
    "\n",
    "`==` gleich (das doppelte `==` Zeichen nimmt man, wenn man zwei Werte vergleichen möchte, das einfach `=` wenn man eine Variable definiert).\n",
    "\n",
    "**Aufgabe 3.5:**\\\n",
    "Versucht mal, damit ein paar Zahlen zu vergleichen. Was kommt raus, wenn ein Vergleich stimmt: z.B. `3 < 5`, und was wenn nicht?"
   ]
  },
  {
   "cell_type": "code",
   "execution_count": null,
   "metadata": {
    "pycharm": {
     "name": "#%%\n"
    }
   },
   "outputs": [],
   "source": [
    "# probiere hier ein paar Vergleiche aus\n"
   ]
  },
  {
   "cell_type": "markdown",
   "metadata": {},
   "source": [
    "Das Schlüsselwort `True` zeigt immer an, dass ein Vergleich wahr ist, `False` hingegen, dass er falsch ist. \\\n",
    "Bei den Beispielen hier ist das natürlich recht einfach zu sehen. Oft ist es aber sehr gut, wenn man Dinge auf so einfache Art vergleichen kann. \\\n",
    "In der nächsten Zeile seht ihr ein Beispiel für eine if-Bedingung.\n",
    "\n",
    "**Aufgabe 3.6:**\\\n",
    "Führe die Zelle aus und überlege, was passieren könnte, wenn du x = 6 definiert."
   ]
  },
  {
   "cell_type": "code",
   "execution_count": null,
   "metadata": {
    "pycharm": {
     "name": "#%%\n"
    }
   },
   "outputs": [],
   "source": [
    "x =\n",
    "if x < 5:\n",
    "  print(x)"
   ]
  },
  {
   "cell_type": "markdown",
   "metadata": {},
   "source": [
    "Das Programm guckt nach dem _if_-Schlüsselwort, ob das Ergebnis des Vergleichs danach `True` ergibt. Nur dann führt es den folgenden eingerückten Code aus.\\\n",
    "Wie oben bei den Funktionen muss man auch bei der if-Bedingung darauf achten, dass alles, was dazugehört **richtig eingerückt** ist.\\\n",
    "Man kann auch eine Anweisung geben, die ausgeführt werden soll, wenn die Bedingung **nicht** erfüllt ist. Das geht über das _else_-Schlüsselwort (engl. für 'sonst').\n",
    "\n",
    "**Aufgabe 3.7:**\\\n",
    "Definiere verschieden Werte für i und überlege dir, was dann passiert. Prüfe nach, ob du das Konzept richtig verstanden hast, indem du die Zelle ausführst."
   ]
  },
  {
   "cell_type": "code",
   "execution_count": null,
   "metadata": {
    "pycharm": {
     "name": "#%%\n"
    }
   },
   "outputs": [],
   "source": [
    "# Definiere selber i mit verschiedenen Werten und probiere aus, was ausgegeben wird.\n",
    "i =\n",
    "if i == 5:\n",
    "  print(\"Oh i hat den Wert 5\")\n",
    "else:\n",
    "  print(\"Stimmt garnicht!\")"
   ]
  },
  {
   "cell_type": "markdown",
   "metadata": {},
   "source": [
    "Das _else_-Schlüsselwort kann nicht alleine stehen, weil es immer an die Bedingung geknüpft ist, die hinter _if_ angegeben ist."
   ]
  },
  {
   "cell_type": "markdown",
   "metadata": {
    "pycharm": {
     "name": "#%% md\n"
    }
   },
   "source": [
    "**Aufgabe 3.7.1:**\n",
    "Führe zunächst die folgende Zelle aus, um a und max einen Wert zu geben."
   ]
  },
  {
   "cell_type": "code",
   "execution_count": null,
   "metadata": {
    "pycharm": {
     "name": "#%%\n"
    }
   },
   "outputs": [],
   "source": [
    "a = 0  # wir zählen in der nächten Zelle mit 1\n",
    "max = 4  # ist das Limit, wie oft wir zählen wollen.\n",
    "\n",
    "def draw_corner(tur):  # Eine Funktion, die immer eine Ecke eines Quadrates zeichnet.\n",
    "    print(\"Zeichne Ecke...\")\n",
    "    tur.left(90)\n",
    "    tur.forward(25)\n",
    "    return tur"
   ]
  },
  {
   "cell_type": "markdown",
   "metadata": {
    "pycharm": {
     "name": "#%% md\n"
    }
   },
   "source": [
    "Ergänze die folgende Zelle so, dass wenn du sie öfters hinter einander ausführst, die nur bis zu dem Maximalwert max eine Ecke zeichnet:"
   ]
  },
  {
   "cell_type": "code",
   "execution_count": null,
   "metadata": {
    "pycharm": {
     "name": "#%%\n"
    }
   },
   "outputs": [],
   "source": [
    "a = a + 1  # Rechnet einen zu a dazu\n",
    "\n",
    "# Wenn a kleiner als max ist, führe das aus.\n",
    "if ...:\n",
    "    draw_corner(my_turtle)"
   ]
  },
  {
   "cell_type": "markdown",
   "metadata": {},
   "source": [
    "**Aufgabe 3.7.2:**\\\n",
    "Füge einen print-Aufruf hinzu, sodass dir \"geprinted\" wird, wenn dein a gleich oder größer als max ist."
   ]
  },
  {
   "cell_type": "markdown",
   "metadata": {},
   "source": [
    "**Wiederholung Funktionen:**\\\n",
    "**Aufgabe 3.9 (Zusatz):**\\\n",
    "Schreibe eine Multiplikationsfunktion, die drei Werte entgegennimmt (z.B. x, y und z) und diese miteinander multipliziert.\n",
    "Lasse dir das Ergebnis für x=3, y=4 und z=5, sowie für x=7, y=8 und z=9 ausgeben (Probe: Das erste Ergebnis ist 60 und das zweite 504).\n",
    "\n",
    "\n",
    "> Tipp: Orientiere dich an der `Additionsfunktion(x,y)` ganz oben im Abschnitt. Statt zwei Variablen, werden aber drei benötigt.\n",
    "\n"
   ]
  },
  {
   "cell_type": "code",
   "execution_count": null,
   "metadata": {
    "pycharm": {
     "name": "#%%\n"
    }
   },
   "outputs": [],
   "source": []
  },
  {
   "cell_type": "markdown",
   "metadata": {},
   "source": [
    "<div class=\"alert alert-block alert-danger\"><b>Breakpoint</b>: Hier bitte auf die anderen warten</div>"
   ]
  },
  {
   "cell_type": "markdown",
   "metadata": {},
   "source": [
    "---\n",
    "# 4\\. Abschnitt"
   ]
  },
  {
   "cell_type": "markdown",
   "metadata": {},
   "source": [
    "## Listen"
   ]
  },
  {
   "cell_type": "markdown",
   "metadata": {},
   "source": [
    "Als nächstes möchten wir das Konzept der Liste einführen.\\\n",
    "Eine Liste ist eigentlich das, was der Name auch sagt, also eine Liste zum Beispiel bestehend aus Zahlen oder Strings. Eine Liste wird durch eckige Klammern \"[]\" markiert, in denen dann unsere Werte stehen.\n",
    "\n",
    "Hier seht ihr eine Beispielliste, die wir in der Variable liste1 speichern:"
   ]
  },
  {
   "cell_type": "code",
   "execution_count": null,
   "metadata": {
    "pycharm": {
     "name": "#%%\n"
    }
   },
   "outputs": [],
   "source": [
    "# Führe die Zelle aus\n",
    "liste1 = [1,3,5,2,4,6]\n"
   ]
  },
  {
   "cell_type": "markdown",
   "metadata": {},
   "source": [
    "Hm, da passiert ja gar nichts. Wie kann man sich die Liste jetzt nochmal ausgeben lassen?\n",
    "\n",
    "<div class=\"alert alert-block alert-success\"><b>Ab hier seid ihr dran</b> ( bis zur nächsten roten Box) </div>\n",
    "\n",
    "**Aufgabe 4.1:**\\\n",
    "Schreibe eine Liste mit Worten (also aus Strings) und gib sie aus.\n",
    ">Tipp: Die einzelnen Einträge in einer Liste werden durch Kommata getrennt.\n",
    "\n",
    "\n",
    "\n"
   ]
  },
  {
   "cell_type": "code",
   "execution_count": null,
   "metadata": {
    "pycharm": {
     "name": "#%%\n"
    }
   },
   "outputs": [],
   "source": [
    "# Definiere hier deine Liste aus strings und gib sie aus\n"
   ]
  },
  {
   "cell_type": "markdown",
   "metadata": {},
   "source": [
    "**Aufgabe 4.2:**\\\n",
    "Erzeuge eine leere Liste."
   ]
  },
  {
   "cell_type": "code",
   "execution_count": null,
   "metadata": {
    "pycharm": {
     "name": "#%%\n"
    }
   },
   "outputs": [],
   "source": [
    "# Erzeuge eine leere Liste\n",
    "\n",
    "leere_liste = []"
   ]
  },
  {
   "cell_type": "markdown",
   "metadata": {},
   "source": [
    "Bei Listen gibt es die Möglichkeit, einzelne Einträge zu ändern, sie also länger oder kürzer zu machen.\n",
    "Das geschieht meistens mit sogenannten Methoden. Eine Methode ist so ähnlich wie eine Funktion, macht also eine vordefinierte Sache mit unserem Objekt (in unserem Fall der Liste).\\\n",
    "Anders als eine Funktion gehört sie direkt zu unserem Objekt dazu und deswegen müssen wir das ein bisschen anders aufschreiben.\n",
    "Ein Beispiel für eine Methode ist die _append_-Methode, die einen Wert ans Ende einer Liste anhängt.\n",
    "\n",
    "Um die Methode anwenden zu können, brauchen wir zunächst eine Liste, nennen wir sie wieder liste1. Die Methode wird dann wie folgt aufgerufen:\n",
    "\n",
    "`liste1.append(x)`.\n",
    "\n",
    "Statt x musst du einfach das hineinschreiben, was du anhängen willst, das kann natürlich eine Zahl oder auch ein String sein.\n",
    "\n",
    "**Aufgabe 4.3:**\\\n",
    "Vervollständige das untere Programm, indem du Werte an die leere Liste anhängst.\n"
   ]
  },
  {
   "cell_type": "code",
   "execution_count": null,
   "metadata": {
    "pycharm": {
     "name": "#%%\n"
    }
   },
   "outputs": [],
   "source": [
    "liste = [] # leere Liste erstellen\n",
    "# Hänge einen Wert hinten an die Liste anhängen\n",
    "\n",
    "\n",
    "\n",
    "print(liste) # Liste ausgeben\n"
   ]
  },
  {
   "cell_type": "code",
   "execution_count": null,
   "metadata": {
    "pycharm": {
     "name": "#%%\n"
    }
   },
   "outputs": [],
   "source": [
    "# Hänge einen Zweiten Wert anhängen\n",
    "\n",
    "\n",
    "print(liste) # Liste wieder ausgeben"
   ]
  },
  {
   "cell_type": "markdown",
   "metadata": {},
   "source": [
    "Wenn man auf einzelne Elemente einer Liste zugreifen möchte, kann man das auch mit eckigen Klammern machen.\n",
    "\n"
   ]
  },
  {
   "cell_type": "code",
   "execution_count": null,
   "metadata": {
    "pycharm": {
     "name": "#%%\n"
    }
   },
   "outputs": [],
   "source": [
    "# Definiere eine Liste.\n",
    "liste = [1,2,3,4,5]\n",
    "# Rufe das Element mit Index 1 ab.\n",
    "liste[1]"
   ]
  },
  {
   "cell_type": "markdown",
   "metadata": {},
   "source": [
    "Du siehst dass du mit liste[1] auf das zweite Element der Liste zugreifst. Die meisten Programmiersprachen machen es so, dass sie die Indexierung bei Null beginnen. Das erste Element trägt also den Index 0."
   ]
  },
  {
   "cell_type": "code",
   "execution_count": null,
   "metadata": {
    "pycharm": {
     "name": "#%%\n"
    }
   },
   "outputs": [],
   "source": [
    "liste[0]"
   ]
  },
  {
   "cell_type": "markdown",
   "metadata": {},
   "source": [
    "# Zusatzaufgabe\n",
    "(Wenn du hier angekommen bist, denke daran, uns Bescheid zu sagen.)\n"
   ]
  },
  {
   "cell_type": "markdown",
   "metadata": {},
   "source": [
    "**Aufgabe 4.4 (Zusatz):** Erstelle zwei Listen, liste1 mit den Zahlen von 1 bis 10 und liste2, die leer ist.\n",
    "Füge mithilfe der `.append()`-Funktion zuerst den 3., danach den 8. und schließlich den 5. Eintrag von liste1 an die liste2 an. Gib dir liste2 aus.\n",
    "\n",
    "\n",
    "> Tipp: Mit der Funkton `liste.append(andereliste[0])` kann man den ersten Eintrag von andereliste an liste anfügen.\n",
    "\n"
   ]
  },
  {
   "cell_type": "code",
   "execution_count": null,
   "metadata": {
    "pycharm": {
     "name": "#%%\n"
    }
   },
   "outputs": [],
   "source": []
  },
  {
   "cell_type": "markdown",
   "metadata": {},
   "source": [
    "<div class=\"alert alert-block alert-danger\"><b>Breakpoint</b>: Hier bitte auf die anderen warten</div>"
   ]
  },
  {
   "cell_type": "markdown",
   "metadata": {},
   "source": [
    "---\n",
    "# 5\\. Abschnitt"
   ]
  },
  {
   "cell_type": "markdown",
   "metadata": {},
   "source": [
    "## Schleifen"
   ]
  },
  {
   "cell_type": "markdown",
   "metadata": {},
   "source": [
    "Gleich wenden wir uns wieder den Schildkröten zu, aber ein ganz wichtiges Konzept brauchen wir noch, die Schleifen.\n",
    "Schleifen benötigen wir, um eine Aktion ganz oft hintereinander ausführen zu können, ohne dass wir den Code so oft schreiben müssen.\n",
    "\n",
    "Hier ein erstes Beispiel:"
   ]
  },
  {
   "cell_type": "code",
   "execution_count": null,
   "metadata": {
    "pycharm": {
     "name": "#%%\n"
    }
   },
   "outputs": [],
   "source": [
    "# eine Liste erstellen\n",
    "liste = [1, 2, 10, 4, 5]\n",
    "\n",
    "\n",
    "# eine for-Schleife benutzen\n",
    "for i in liste:  # Das Schlüsselwort 'for' leitet die Schleife ein, gefolgt von der Variable, die die Werte 'in' der Liste annimmt. Wir brauchen wieder einen Doppelpunkt!\n",
    "  print(i)  # Der Code, der mehrfach ausgeführt werden soll, muss wieder eingerückt sein."
   ]
  },
  {
   "cell_type": "markdown",
   "metadata": {},
   "source": [
    "In dieser Schleife (beginnend mit dem _for_-Schlüsselwort) nimmt die Variable i nacheinander die Werte der Liste an.\n",
    "Im Körper (der eingerückte Code hinter dem Doppelpunkt) wird dann definiert, was damit gemacht wird (für jedes Element _i_ in der Liste _liste_ wird der Code im Körper ausgeführt).\\\n",
    "for-schleifen sind auch super, um Listen zu verändern oder leere Listen zu füllen.\n",
    "\n",
    "<div class=\"alert alert-block alert-success\"><b>Ab hier seid ihr dran</b> ( bis zur nächsten roten Box) </div>\n",
    "\n",
    "**Aufgabe 5.1:**\\\n",
    "In der nächsten Zeile wollen wir alle Werte der Liste1 quadrieren und das Ergebnis für jeden Wert in der Liste 2 speichern. Führe die untere Zelle aus und gucke was fehlt. Dann vervollständige den angefangenen Code:"
   ]
  },
  {
   "cell_type": "markdown",
   "metadata": {},
   "source": [
    "> Tipp: Denke an die .append() Funktion"
   ]
  },
  {
   "cell_type": "code",
   "execution_count": null,
   "metadata": {
    "pycharm": {
     "name": "#%%\n"
    }
   },
   "outputs": [],
   "source": [
    "# erstelle eine Liste mit Werten\n",
    "liste1 =\n",
    "\n",
    "# erstelle eine leere Liste\n",
    "liste2 =\n",
    "\n",
    "# Füge für jeden Wert in liste1 die Quadratzahl (zahl^hoch = zahl ** hoch) zu liste2 hinzu\n",
    "for ...:\n",
    "\n",
    "\n",
    "# Gib die beiden Listen aus."
   ]
  }
 ],
 "metadata": {
  "kernelspec": {
   "display_name": "Python 3",
   "language": "python",
   "name": "python3"
  },
  "language_info": {
   "codemirror_mode": {
    "name": "ipython",
    "version": 3
   },
   "file_extension": ".py",
   "mimetype": "text/x-python",
   "name": "python",
   "nbconvert_exporter": "python",
   "pygments_lexer": "ipython3",
   "version": "3.9.1"
  }
 },
 "nbformat": 4,
 "nbformat_minor": 1
}